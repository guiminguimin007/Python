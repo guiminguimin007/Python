{
 "cells": [
  {
   "cell_type": "markdown",
   "metadata": {},
   "source": [
    "## 分支\n",
    "    -if 条件表达式:\n",
    "    -条件表达式必须为布尔值的表达式\n",
    "    -表达式后面的冒号不能少\n",
    "    -注意if后面的出现语句，如果属于if语句块，则必须用一个【缩进等级】\n",
    "    -条件表达式结果为True，则执行if后面的缩进语句块"
   ]
  },
  {
   "cell_type": "code",
   "execution_count": 8,
   "metadata": {},
   "outputs": [
    {
     "name": "stdout",
     "output_type": "stream",
     "text": [
      "回家吧，孩子\n",
      "我们不带你玩\n",
      "回家吧，孩子\n"
     ]
    }
   ],
   "source": [
    "# if语句练习1\n",
    "age = 17\n",
    "message = \"开课吧\"\n",
    "if age < 18:\n",
    "    message = \"回家吧，孩子\"\n",
    "    print(message)\n",
    "    print('我们不带你玩')\n",
    "print(message)"
   ]
  },
  {
   "cell_type": "code",
   "execution_count": 11,
   "metadata": {},
   "outputs": [
    {
     "name": "stdout",
     "output_type": "stream",
     "text": [
      "开课吧\n",
      "====分界线====注意缩进\n",
      "我们不带你玩\n",
      "开课吧\n"
     ]
    }
   ],
   "source": [
    "# if语句练习2\n",
    "age = 19\n",
    "message = \"开课吧\"\n",
    "if age < 18:\n",
    "    message = \"回家吧，孩子\"\n",
    "    print(message)\n",
    "    print('我们不带你玩')\n",
    "print(message)\n",
    "print(\"====分界线====注意缩进\")\n",
    "if age < 18:\n",
    "    message = \"回家吧，孩子\"\n",
    "    print(message)\n",
    "print('我们不带你玩')\n",
    "print(message)"
   ]
  },
  {
   "cell_type": "markdown",
   "metadata": {},
   "source": [
    "### 双向分支\n",
    "    - 一定执行if或者else中一个，也仅执行一个\n",
    "    - 缩进问题，if 和else一个层级，其余语句一个层级\n",
    "    - if 条件表达式：\n",
    "        语句1\n",
    "        语句2\n",
    "        ....\n",
    "      else：\n",
    "         语句3\n",
    "         语句4\n",
    "         ...."
   ]
  },
  {
   "cell_type": "code",
   "execution_count": 18,
   "metadata": {},
   "outputs": [
    {
     "name": "stdout",
     "output_type": "stream",
     "text": [
      "今天学习循环\n",
      "请输入性别：男\n",
      "没糖了，上课去！\n",
      "请再输入性别：女\n",
      "来，叔叔给你糖吃\n"
     ]
    }
   ],
   "source": [
    "# if else\n",
    "# input作用 \n",
    "#1.在屏幕上出括号内的字符串\n",
    "#2.接收用户输入的内容并返回程序\n",
    "#3.input返回的内容一定是字符串类型\n",
    "\n",
    "print(\"今天学习循环\")\n",
    "gender = input(\"请输入性别：\")\n",
    "#print(\"你输入的性别是：{0}\".format(gender))\n",
    "if gender == \"女\":\n",
    "    print(\"来，叔叔给你糖吃\")\n",
    "else:\n",
    "    print(\"没糖了，上课去！\")\n",
    "gender = input(\"请再输入性别：\")\n",
    "if gender == \"女\":\n",
    "    print(\"来，叔叔给你糖吃\")\n",
    "else:\n",
    "    print(\"没糖了，上课去！\")"
   ]
  },
  {
   "cell_type": "code",
   "execution_count": 24,
   "metadata": {},
   "outputs": [
    {
     "name": "stdout",
     "output_type": "stream",
     "text": [
      "请输入成绩：70\n",
      "C\n"
     ]
    }
   ],
   "source": [
    "score = input(\"请输入成绩：\")\n",
    "#要转换类型否则返回的是字符串\n",
    "score = int(score)\n",
    "if score >= 90:\n",
    "    print(\"A\")\n",
    "if score >=80 and score < 90 :\n",
    "    print('B')\n",
    "if score >=70 and score < 80 :\n",
    "    print('C')\n",
    "if score >=60 and score < 70 :\n",
    "    print('D')\n",
    "if score < 60:\n",
    "    print(\"不合格\")"
   ]
  },
  {
   "cell_type": "markdown",
   "metadata": {},
   "source": [
    "## 多路分支\n",
    "    - if 条件表达式:\n",
    "          语句1\n",
    "          语句2\n",
    "            ...\n",
    "      elif 条件表达式:\n",
    "          语句1\n",
    "          语句2\n",
    "          ...\n",
    "      elif 条件表达式:\n",
    "          语句3\n",
    "          语句4\n",
    "          ...\n",
    "      else:\n",
    "          语句1\n",
    "          ...."
   ]
  },
  {
   "cell_type": "code",
   "execution_count": 26,
   "metadata": {},
   "outputs": [
    {
     "name": "stdout",
     "output_type": "stream",
     "text": [
      "请输入成绩：81\n",
      "B\n"
     ]
    }
   ],
   "source": [
    "#多路分支\n",
    "score = input(\"请输入成绩：\")\n",
    "#要转换类型否则返回的是字符串\n",
    "score = int(score)\n",
    "if score >= 90:\n",
    "    print(\"A\")\n",
    "elif score >=80:\n",
    "    print('B')\n",
    "elif score >=70:\n",
    "    print('C')\n",
    "elif score >=60:\n",
    "    print('D')\n",
    "else:\n",
    "    print(\"不合格\")"
   ]
  },
  {
   "cell_type": "markdown",
   "metadata": {},
   "source": [
    "## if语句其他\n",
    "    - if语句可以嵌套，但不推荐\n",
    "    - python 没有switch-case语句"
   ]
  },
  {
   "cell_type": "markdown",
   "metadata": {},
   "source": [
    "# 循环语句\n",
    "    - 分类 for while"
   ]
  },
  {
   "cell_type": "markdown",
   "metadata": {},
   "source": [
    "## for循环\n",
    "    - for 变量 in 序列:\n",
    "        语句1\n",
    "        语句2\n",
    "        ....\n",
    "        "
   ]
  },
  {
   "cell_type": "code",
   "execution_count": 29,
   "metadata": {},
   "outputs": [
    {
     "name": "stdout",
     "output_type": "stream",
     "text": [
      "l4\n",
      "w5\n",
      "z3\n",
      "===分隔符===\n",
      "l4\n",
      "我要找的l4出现了\n",
      "w5\n",
      "你不是我找的同学\n",
      "z3\n",
      "你不是我找的同学\n"
     ]
    }
   ],
   "source": [
    "#列表，一般用中括号表示\n",
    "#例如 {'z3','l4','w5'}\n",
    "for name in {'z3','l4','w5'}:\n",
    "    print(name)\n",
    "print('===分隔符===')\n",
    "for name in {'z3','l4','w5'}:\n",
    "    print(name)\n",
    "    if name == 'l4':\n",
    "        print('我要找的{0}出现了'.format(name))\n",
    "    else:\n",
    "        print('你不是我找的同学')\n",
    "    "
   ]
  },
  {
   "cell_type": "markdown",
   "metadata": {},
   "source": [
    "## range介绍\n",
    "    - 生成一个数字序列\n",
    "    - 具体范围可以设定\n",
    "    - 一般由数字范围的两个数，一般左包含数字不包含右边数字\n",
    "    - rangint是特列，他左右都包含"
   ]
  },
  {
   "cell_type": "code",
   "execution_count": 34,
   "metadata": {},
   "outputs": [
    {
     "name": "stdout",
     "output_type": "stream",
     "text": [
      "1\n",
      "2\n",
      "3\n",
      "4\n",
      "5\n",
      "6\n",
      "7\n",
      "8\n",
      "9\n",
      "10\n"
     ]
    }
   ],
   "source": [
    "#range练习 打印1~10的数字出来\n",
    "for i in range(1,11):\n",
    "    print(i)"
   ]
  },
  {
   "cell_type": "markdown",
   "metadata": {},
   "source": [
    "## for-else 语句\n",
    "    - 当 for 循环结束的时候，会执行else语句\n",
    "    - else语句是可选语句"
   ]
  },
  {
   "cell_type": "code",
   "execution_count": 35,
   "metadata": {
    "scrolled": true
   },
   "outputs": [
    {
     "name": "stdout",
     "output_type": "stream",
     "text": [
      "l4\n",
      "我要找的l4出现了\n",
      "w5\n",
      "你不是我找的同学\n",
      "z3\n",
      "你不是我找的同学\n",
      "结束了，不要再找了\n"
     ]
    }
   ],
   "source": [
    "for name in {'z3','l4','w5'}:\n",
    "    print(name)\n",
    "    if name == 'l4':\n",
    "        print('我要找的{0}出现了'.format(name))\n",
    "    else:\n",
    "        print('你不是我找的同学')\n",
    "else:\n",
    "    print(\"结束了，不要再找了\")"
   ]
  },
  {
   "cell_type": "markdown",
   "metadata": {},
   "source": [
    "## 循环之break,contineu,pass\n",
    "    - break:无条件结束整个循环\n",
    "    - contineu:无条件结束本次循环,重新进入下一轮循环\n",
    "    - pass:表示略过,占位的作用,没有跳过功能"
   ]
  },
  {
   "cell_type": "code",
   "execution_count": 50,
   "metadata": {
    "scrolled": false
   },
   "outputs": [
    {
     "name": "stdout",
     "output_type": "stream",
     "text": [
      "1\n",
      "继续找!\n",
      "2\n",
      "继续找!\n",
      "3\n",
      "继续找!\n",
      "4\n",
      "继续找!\n",
      "5\n",
      "继续找!\n",
      "6\n",
      "继续找!\n",
      "7\n",
      "找到了,不用再找!\n",
      "===分割线===\n",
      "1\n",
      "继续找!\n",
      "2\n",
      "继续找!\n",
      "3\n",
      "继续找!\n",
      "4\n",
      "继续找!\n",
      "5\n",
      "继续找!\n",
      "6\n",
      "继续找!\n",
      "7\n",
      "找到了,继续找吧!\n",
      "8\n",
      "继续找!\n",
      "9\n",
      "继续找!\n",
      "10\n",
      "继续找!\n",
      "===分割线===\n",
      "1\n",
      "继续找!\n",
      "2\n",
      "继续找!\n",
      "3\n",
      "继续找!\n",
      "4\n",
      "继续找!\n",
      "5\n",
      "继续找!\n",
      "6\n",
      "继续找!\n",
      "7\n",
      "找到了,继续找吧!\n",
      "继续找!\n",
      "8\n",
      "继续找!\n",
      "9\n",
      "继续找!\n",
      "10\n",
      "继续找!\n"
     ]
    }
   ],
   "source": [
    "#在数字1~10中,寻找数字7,一旦找到其他都不做了\n",
    "for i in range(1,11):\n",
    "    print(i)\n",
    "    if i == 7:\n",
    "        print('找到了,不用再找!')\n",
    "        break;\n",
    "    print('继续找!')\n",
    "print('===分割线===')\n",
    "for i in range(1,11):\n",
    "    print(i)\n",
    "    if i == 7:\n",
    "        print('找到了,继续找吧!')\n",
    "        continue;\n",
    "    print('继续找!')\n",
    "print('===分割线===')\n",
    "for i in range(1,11):\n",
    "    print(i)\n",
    "    if i == 7:\n",
    "        print('找到了,继续找吧!')\n",
    "        pass;\n",
    "    print('继续找!')"
   ]
  },
  {
   "cell_type": "code",
   "execution_count": 47,
   "metadata": {
    "scrolled": false
   },
   "outputs": [
    {
     "name": "stdout",
     "output_type": "stream",
     "text": [
      "2是偶数\n",
      "4是偶数\n",
      "6是偶数\n",
      "8是偶数\n",
      "10是偶数\n"
     ]
    }
   ],
   "source": [
    "#输出偶数\n",
    "for i in range(1,11):\n",
    "    if i% 2 == 1:\n",
    "        continue\n",
    "    print('{0}是偶数'.format(i))"
   ]
  },
  {
   "cell_type": "code",
   "execution_count": 52,
   "metadata": {},
   "outputs": [
    {
     "name": "stdout",
     "output_type": "stream",
     "text": [
      "testpass\n",
      "testpass\n",
      "testpass\n",
      "testpass\n",
      "testpass\n"
     ]
    }
   ],
   "source": [
    "# pass 例子,一般用于占位,\n",
    "# 例如下面,想写个for循环,但没有想到怎么实现,就占位,没有跳过功能\n",
    "for i in range(1,6):\n",
    "    pass\n",
    "    print(\"testpass\")"
   ]
  }
 ],
 "metadata": {
  "kernelspec": {
   "display_name": "Python 3",
   "language": "python",
   "name": "python3"
  },
  "language_info": {
   "codemirror_mode": {
    "name": "ipython",
    "version": 3
   },
   "file_extension": ".py",
   "mimetype": "text/x-python",
   "name": "python",
   "nbconvert_exporter": "python",
   "pygments_lexer": "ipython3",
   "version": "3.6.3"
  }
 },
 "nbformat": 4,
 "nbformat_minor": 2
}
