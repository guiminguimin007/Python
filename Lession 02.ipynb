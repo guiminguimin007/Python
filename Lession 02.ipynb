{
 "cells": [
  {
   "cell_type": "markdown",
   "metadata": {},
   "source": [
    "# 字符串\n",
    "- 转义字符\n",
    "- 格式化\n",
    "- 内建函数"
   ]
  },
  {
   "cell_type": "markdown",
   "metadata": {},
   "source": [
    "## 转义字符\n",
    "- 回车键、换行、退格\n",
    "- 借助反斜杠表示 \\' \\\\ \\r\\n\n",
    "- 不同系统对回车换行不同表示\n",
    "    - windows: \\n\n",
    "    - Linux: \\r\\n"
   ]
  },
  {
   "cell_type": "code",
   "execution_count": 4,
   "metadata": {},
   "outputs": [
    {
     "name": "stdout",
     "output_type": "stream",
     "text": [
      "iloveu\n",
      "Let's go\n",
      "Let's go\n",
      "c:\\User\n",
      "i\r\n",
      "love\r\n",
      "u\n"
     ]
    }
   ],
   "source": [
    "str = 'iloveu'\n",
    "print(str)\n",
    "str = \"Let's go\"\n",
    "print(str)\n",
    "\n",
    "str = 'Let\\'s go'\n",
    "print(str)\n",
    "\n",
    "str2 = 'c:\\\\User'\n",
    "print(str2)\n",
    "\n",
    "#回车换行\n",
    "hc = 'i\\r\\nlove\\r\\nu'\n",
    "print(hc)"
   ]
  },
  {
   "cell_type": "markdown",
   "metadata": {},
   "source": [
    "## 格式化\n",
    "- 字符串按照一定格式打印或者填充\n",
    "    - 利用百分号 %\n",
    "        - %d：此处应该放一个整数\n",
    "        - %s:此处应该放入一个字符串\n",
    "    - 利用format函数\n",
    "        - 推荐使用：以大括号{} 和冒号 ：  代替 %号，后面用format带参数完成"
   ]
  },
  {
   "cell_type": "code",
   "execution_count": 20,
   "metadata": {},
   "outputs": [
    {
     "name": "stdout",
     "output_type": "stream",
     "text": [
      "i love %s\n",
      "i love uuu\n",
      "i am %d years old\n",
      "i am 12 years old\n",
      "I'm %s ,i am %d years old\n",
      "I'm Min ,i am 22 years old\n",
      "I love halo\n",
      "I'm Min and i am 22 years old, I love Min\n"
     ]
    }
   ],
   "source": [
    "ss = 'i love %s'\n",
    "print(ss)\n",
    "print(ss%'uuu')\n",
    "\n",
    "sd = 'i am %d years old'\n",
    "print(sd)\n",
    "print(sd%12)\n",
    "\n",
    "ssd = \"I\\'m %s ,i am %d years old\"\n",
    "print(ssd)\n",
    "#错误如果有几个占位符，要么必须用几个内容代替，要么一个也不要\n",
    "#print(ssd%'Min')#报错\n",
    "print(ssd%('Min',22))\n",
    "\n",
    "sf = 'I love {}'.format('halo')\n",
    "print(sf)\n",
    "\n",
    "#按标号顺序替换\n",
    "sf2 = 'I\\'m {0} and i am {1} years old, I love {0}'.format('Min',22)\n",
    "print(sf2)"
   ]
  },
  {
   "cell_type": "markdown",
   "metadata": {},
   "source": [
    "## None\n",
    "- 表示什么都没有\n",
    "- 若函数没有返回值，可以返回None\n",
    "- 用来占位置\n",
    "- 用来解除变量绑定"
   ]
  },
  {
   "cell_type": "markdown",
   "metadata": {},
   "source": [
    "# 表达式\n",
    "- 由一个或者几个数字或者变量和运算符组成的一行代码\n",
    "- 通常返回一个结果"
   ]
  },
  {
   "cell_type": "markdown",
   "metadata": {},
   "source": [
    "# 运算符\n",
    "- 由一个以上的值经过变化得到新值的过程就叫运算\n",
    "- 分类：\n",
    "    - 算数运算符\n",
    "    - 比较或者关系运算符\n",
    "    - 赋值运算符\n",
    "    - 逻辑运算符\n",
    "    - 位运算\n",
    "    - 成员运算符\n",
    "    - 身份运算符\n",
    "    "
   ]
  },
  {
   "cell_type": "markdown",
   "metadata": {},
   "source": [
    "## 算数运算符\n",
    "    - 加减乘除 +-*/\n",
    "    - 取余 %\n",
    "    - 取整 //\n",
    "    - 幂运算 **\n",
    "    - python 没有自增减运算符"
   ]
  },
  {
   "cell_type": "code",
   "execution_count": 2,
   "metadata": {},
   "outputs": [
    {
     "name": "stdout",
     "output_type": "stream",
     "text": [
      "2.25\n",
      "1\n",
      "2\n",
      "6561\n"
     ]
    }
   ],
   "source": [
    "a = 9/4\n",
    "print(a)\n",
    "a = 9%4\n",
    "print(a)\n",
    "a = 9//4\n",
    "print(a)\n",
    "a = 9**4 # 9的四次方\n",
    "print(a)\n"
   ]
  },
  {
   "cell_type": "markdown",
   "metadata": {},
   "source": [
    "## 比较运算符\n",
    "    - 大于、小于、等于、不等 > ,< ,== ,!=\n",
    "    - 结果布尔值 即True、Flase\n",
    "    "
   ]
  },
  {
   "cell_type": "code",
   "execution_count": 3,
   "metadata": {
    "scrolled": true
   },
   "outputs": [
    {
     "name": "stdout",
     "output_type": "stream",
     "text": [
      "27\n",
      "False\n"
     ]
    }
   ],
   "source": [
    "a = 3**3\n",
    "#1.判断 a == 80\n",
    "#2.把结果赋值个b\n",
    "b = a == 30\n",
    "print(a)\n",
    "print(b)"
   ]
  },
  {
   "cell_type": "markdown",
   "metadata": {},
   "source": [
    "## 赋值运算符\n",
    "    - =赋值\n",
    "    - += -= /= //= %= **= 缩写"
   ]
  },
  {
   "cell_type": "code",
   "execution_count": 4,
   "metadata": {},
   "outputs": [
    {
     "name": "stdout",
     "output_type": "stream",
     "text": [
      "8\n"
     ]
    }
   ],
   "source": [
    "a = 1\n",
    "a += 7\n",
    "print(a) #  = a + 7"
   ]
  },
  {
   "cell_type": "markdown",
   "metadata": {},
   "source": [
    "## 逻辑运算符\n",
    "    - and or not 与或非\n",
    "    - python没有异或运算\n",
    "    - and看做乘法 ， OR 看做加法 ， True 1 ，False 0\n",
    "    - 则结果为0的为False,否则True\n",
    "    - 短路问题，按照运算顺序计算，一旦能够确定整个式子的值，则不再计算后面，直接返回"
   ]
  },
  {
   "cell_type": "code",
   "execution_count": 10,
   "metadata": {},
   "outputs": [
    {
     "name": "stdout",
     "output_type": "stream",
     "text": [
      "True\n",
      "True\n",
      "True\n",
      "False\n"
     ]
    }
   ],
   "source": [
    "a = True\n",
    "b=  False\n",
    "c = True\n",
    "\n",
    "d = a and b or c # 1 * 0 + 1  = 1 所以为 True\n",
    "print(d)\n",
    "\n",
    "dd = a or b and c # 1 + 0 * 1 = 1\n",
    "print(dd)\n",
    "\n",
    "ddd = True or lskdjfieolkjslidfje #短路  确定肯定为True or后面的不会计算\n",
    "print(ddd)\n",
    "\n",
    "dddd = False and dfdfwelksdl  #短路  确定肯定为False and后面的不会计算\n",
    "print(dddd)"
   ]
  },
  {
   "cell_type": "markdown",
   "metadata": {},
   "source": [
    "##成员运算符\n",
    "    -用来检测一个变量是否另一个变量的成员\n",
    "    -in    not in"
   ]
  },
  {
   "cell_type": "code",
   "execution_count": 12,
   "metadata": {},
   "outputs": [
    {
     "name": "stdout",
     "output_type": "stream",
     "text": [
      "True\n",
      "False\n",
      "True\n"
     ]
    }
   ],
   "source": [
    "l = {1,2,3,4,5,6}\n",
    "a = 3\n",
    "b = 7\n",
    "\n",
    "\n",
    "aa = a in l\n",
    "bb = b in l\n",
    "bbb = b not in l\n",
    "print(aa)\n",
    "print(bb)\n",
    "print(bbb)"
   ]
  },
  {
   "cell_type": "markdown",
   "metadata": {},
   "source": [
    "### 身份运算符\n",
    "    - 用来检测两个变量是不是同一个变量  is  / is not\n",
    "    - var1 is var2\n",
    "    "
   ]
  },
  {
   "cell_type": "code",
   "execution_count": 19,
   "metadata": {},
   "outputs": [
    {
     "name": "stdout",
     "output_type": "stream",
     "text": [
      "True\n",
      "True\n",
      "False\n"
     ]
    }
   ],
   "source": [
    "a = 9 \n",
    "b = 9\n",
    "print(a is b)\n",
    "\n",
    "a = 'iloveu'\n",
    "b = 'iloveu'\n",
    "print(a is b)\n",
    "\n",
    "a = 'i love u'\n",
    "b = 'i love u'\n",
    "print(a is b)"
   ]
  },
  {
   "cell_type": "markdown",
   "metadata": {},
   "source": [
    "## 运算符优先级问题\n",
    "    - 括号拥有最高优先级\n",
    "    - 优先级\n",
    "        ** 指数\n",
    "        ~ + - 按位翻转，一元加减号 +@ 和-@\n",
    "        * / % // 乘除，取摸，取整\n",
    "        + - 加减法\n",
    "        >> << 右移，左移\n",
    "        & 位and\n",
    "        ^ | 位运算\n",
    "        <= < > >= 比较运算符\n",
    "        <> == != 等于运算符\n",
    "        = %= /= -= += *= **= 赋值运算符\n",
    "        is  is not 身份运算符\n",
    "        in  not in 成员运算符\n",
    "        not or and 逻辑运算符\n",
    "        "
   ]
  },
  {
   "cell_type": "markdown",
   "metadata": {},
   "source": [
    "# 程序结构\n",
    "- 顺序\n",
    "- 分支\n",
    "- 循环"
   ]
  }
 ],
 "metadata": {
  "kernelspec": {
   "display_name": "Python 3",
   "language": "python",
   "name": "python3"
  },
  "language_info": {
   "codemirror_mode": {
    "name": "ipython",
    "version": 3
   },
   "file_extension": ".py",
   "mimetype": "text/x-python",
   "name": "python",
   "nbconvert_exporter": "python",
   "pygments_lexer": "ipython3",
   "version": "3.6.3"
  }
 },
 "nbformat": 4,
 "nbformat_minor": 2
}
