{
 "cells": [
  {
   "cell_type": "code",
   "execution_count": 6,
   "metadata": {},
   "outputs": [
    {
     "name": "stdout",
     "output_type": "stream",
     "text": [
      "Help on built-in function print in module builtins:\n",
      "\n",
      "print(...)\n",
      "    print(value, ..., sep=' ', end='\\n', file=sys.stdout, flush=False)\n",
      "    \n",
      "    Prints the values to a stream, or to sys.stdout by default.\n",
      "    Optional keyword arguments:\n",
      "    file:  a file-like object (stream); defaults to the current sys.stdout.\n",
      "    sep:   string inserted between values, default a space.\n",
      "    end:   string appended after the last value, default a newline.\n",
      "    flush: whether to forcibly flush the stream.\n",
      "\n"
     ]
    }
   ],
   "source": [
    "# 查找函数帮助文档\n",
    "# 1.用help函数\n",
    "help(print)"
   ]
  },
  {
   "cell_type": "code",
   "execution_count": 8,
   "metadata": {},
   "outputs": [
    {
     "name": "stdout",
     "output_type": "stream",
     "text": [
      "1\t\n",
      "2\t4\t\n",
      "3\t6\t9\t\n",
      "4\t8\t12\t16\t\n",
      "5\t10\t15\t20\t25\t\n",
      "6\t12\t18\t24\t30\t36\t\n",
      "7\t14\t21\t28\t35\t42\t49\t\n",
      "8\t16\t24\t32\t40\t48\t56\t64\t\n",
      "9\t18\t27\t36\t45\t54\t63\t72\t81\t\n"
     ]
    }
   ],
   "source": [
    "# 九九乘法表\n",
    "# print\n",
    "for i in range(1,10):\n",
    "    for n in range(1,i+1):\n",
    "        print(n*i,end='\\t')\n",
    "    print('')"
   ]
  },
  {
   "cell_type": "markdown",
   "metadata": {},
   "source": [
    "# 汉诺塔问题\n",
    "- 规则\n",
    "    1.每次移动一个盘子\n",
    "    2.任何时候大盘子在下面,小盘子在上面\n",
    "    3.最终结果是,从A上的所有盘子移动到C上面\n",
    "- 方法思路:\n",
    "    1. n = 1:\n",
    "        1. 直接把A上的盘子移动到C上面 ,表示 A->C\n",
    "    2. n = 2:\n",
    "        1. 把小盘子从A移动到B上,表示:A->B\n",
    "        2. 把小盘子从A移动到C上,表示:A->C\n",
    "        3. 把小盘子从B移动到C上,表示:B->C\n",
    "    3. n = 3:\n",
    "        1. 把A上的两个盘子,通过C移动到B上去\n",
    "        2. 把A上面最后一个盘子移动到C上面,表示A->C\n",
    "        3. 把B上面两个盘子,借助A,移动到C上去\n",
    "    4. n > 2:\n",
    "        1. 把A上的(n-1)个盘子,通过C移动到B上去\n",
    "        2. 把A上面最后一个盘子移动到C上面,表示A->C\n",
    "        3. 把B上面(n-1)个盘子,借助A,移动到C上去"
   ]
  },
  {
   "cell_type": "code",
   "execution_count": 14,
   "metadata": {},
   "outputs": [
    {
     "name": "stdout",
     "output_type": "stream",
     "text": [
      "A -> B\n",
      "A -> C\n",
      "B -> C\n",
      "A -> B\n",
      "C -> A\n",
      "C -> B\n",
      "A -> B\n",
      "A -> C\n",
      "B -> C\n",
      "B -> A\n",
      "C -> A\n",
      "B -> C\n",
      "A -> B\n",
      "A -> C\n",
      "B -> C\n"
     ]
    }
   ],
   "source": [
    "def hano(n,a,b,c):\n",
    "    '''\n",
    "    汉诺塔的递归实现\n",
    "    把n个盘子,从a盘子,借助b盘子,移动到c盘子中\n",
    "    函数输出移动的步骤\n",
    "    n:表示一共盘子数量\n",
    "    a:表示第一个盘子 源盘子\n",
    "    b:表示第二个盘子 中间盘子\n",
    "    c:表示第三个盘子 目标盘子\n",
    "    '''\n",
    "    if n == 1:\n",
    "        print(a,'->',c)\n",
    "        return None\n",
    "    '''\n",
    "    if n == 2:\n",
    "        print(a,'->',b)\n",
    "        print(a,'->',c)\n",
    "        print(b,'->',c)\n",
    "        return None\n",
    "    '''    \n",
    "    hano(n-1,a,c,b)\n",
    "    print(a,'->',c)\n",
    "    hano(n-1,b,a,c)\n",
    "\n",
    "#hano(1,'A','B','C')\n",
    "hano(4,'A','B','C')"
   ]
  }
 ],
 "metadata": {
  "kernelspec": {
   "display_name": "Python 3",
   "language": "python",
   "name": "python3"
  },
  "language_info": {
   "codemirror_mode": {
    "name": "ipython",
    "version": 3
   },
   "file_extension": ".py",
   "mimetype": "text/x-python",
   "name": "python",
   "nbconvert_exporter": "python",
   "pygments_lexer": "ipython3",
   "version": "3.6.3"
  }
 },
 "nbformat": 4,
 "nbformat_minor": 2
}
