{
 "cells": [
  {
   "cell_type": "markdown",
   "metadata": {},
   "source": [
    "# 变量作用域\n",
    "- 变量由作用范围限制\n",
    "- 分类 \n",
    "    - 全局(global): 在函数外部定义\n",
    "    - 局部(local):在函数内部定义\n",
    "- 作用范围:\n",
    "    - 全局变量:在整个全局范围都有效\n",
    "    - 全局变量在局部可以使用(即函数内部可以访问函数外部定义的变量)\n",
    "    - 局部变量在局部范围内可以使用,在全部范围无法使用\n",
    "- LEGB原则\n",
    "    - L 局部作用域\n",
    "    - E 外部嵌套函数作用域\n",
    "    - G 函数定义所在模块作用域\n",
    "    - B python内置模块的作用域"
   ]
  },
  {
   "cell_type": "code",
   "execution_count": 5,
   "metadata": {},
   "outputs": [
    {
     "name": "stdout",
     "output_type": "stream",
     "text": [
      "99\n",
      "hahaha\n",
      "90\n",
      "100\n"
     ]
    }
   ],
   "source": [
    "a1 = 100\n",
    "def func():\n",
    "    a1 = 99\n",
    "    print(a1)\n",
    "    print('hahaha')\n",
    "    a2 = 90\n",
    "    print(a2)\n",
    "\n",
    "func()\n",
    "print(a1)\n",
    "#print(a2) #这里 print(a2)报错因为没有在全局定义"
   ]
  },
  {
   "cell_type": "markdown",
   "metadata": {},
   "source": [
    "## 提升局部变量为全局变量\n",
    "- 使用global"
   ]
  },
  {
   "cell_type": "code",
   "execution_count": 11,
   "metadata": {},
   "outputs": [
    {
     "name": "stdout",
     "output_type": "stream",
     "text": [
      "没有执行函数前 a1 = 100\n",
      "99\n",
      "hahaha\n",
      "90\n",
      "执行函数后 a1 = 99\n",
      "90\n"
     ]
    }
   ],
   "source": [
    "a1 = 100\n",
    "def func():\n",
    "    global a1\n",
    "    a1 = 99\n",
    "    print(a1)\n",
    "    print('hahaha')\n",
    "    global a2 \n",
    "    a2 = 90\n",
    "    print(a2)\n",
    "\n",
    "print('没有执行函数前 a1 = {0}'.format(a1))\n",
    "func()\n",
    "print('执行函数后 a1 = {0}'.format(a1))\n",
    "print(a2) "
   ]
  },
  {
   "cell_type": "markdown",
   "metadata": {},
   "source": [
    "## globals,locals函数\n",
    "- 通过函数显示出局部变量和全局变量"
   ]
  },
  {
   "cell_type": "code",
   "execution_count": 13,
   "metadata": {},
   "outputs": [
    {
     "name": "stdout",
     "output_type": "stream",
     "text": [
      "locals ={'e': 333, 'd': 555, 'c': 444}\n",
      "globals ={'__name__': '__main__', '__doc__': 'Automatically created module for IPython interactive environment', '__package__': None, '__loader__': None, '__spec__': None, '__builtin__': <module 'builtins' (built-in)>, '__builtins__': <module 'builtins' (built-in)>, '_ih': ['', \"a1 = 100\\ndef func():\\n    print(a1)\\n    print('hahaha')\\n    a2 = 90\\n    print(a2)\\n\\nfunc()\\nprint(a1)\", \"a1 = 100\\ndef func():\\n    print(a1)\\n    print('hahaha')\\n    a2 = 90\\n    print(a2)\\n\\nfunc()\\nprint(a1)\\n#print(a2) #这里 print(a2)报错因为没有定义\", \"a1 = 100\\ndef func():\\n    print(a1)\\n    print('hahaha')\\n    a2 = 90\\n    print(a2)\\n\\nfunc()\\nprint(a1)\\nprint(a2) #这里 print(a2)报错因为没有定义\", \"a1 = 100\\ndef func():\\n    print(a1)\\n    print('hahaha')\\n    a2 = 90\\n    print(a2)\\n\\nfunc()\\nprint(a1)\\n#print(a2) #这里 print(a2)报错因为没有定义\", \"a1 = 100\\ndef func():\\n    a1 = 99\\n    print(a1)\\n    print('hahaha')\\n    a2 = 90\\n    print(a2)\\n\\nfunc()\\nprint(a1)\\n#print(a2) #这里 print(a2)报错因为没有定义\", \"a1 = 100\\ndef func():\\n    a1 = 99\\n    print(a1)\\n    print('hahaha')\\n    global a2 = 90\\n    print(a2)\\n\\nfunc()\\nprint(a1)\\nprint(a2) \", \"a1 = 100\\ndef func():\\n    a1 = 99\\n    print(a1)\\n    print('hahaha')\\n    global a2 \\n    a2 = 90\\n    print(a2)\\n\\nfunc()\\nprint(a1)\\nprint(a2) \", \"a1 = 100\\ndef func():\\n    a1 = 99\\n    print(a1)\\n    print('hahaha')\\n    global a2 \\n    a2 = 90\\n    print(a2)\\n\\nprint(a1)\\nfunc()\\nprint(a1)\\nprint(a2) \", \"a1 = 100\\ndef func():\\n    a1 = 99\\n    print(a1)\\n    print('hahaha')\\n    global a2 \\n    a2 = 90\\n    print(a2)\\n\\nprint('a1 = {0}'.format(a1))\\nfunc()\\nprint(a1)\\nprint(a2) \", \"a1 = 100\\ndef func():\\n    global a1\\n    a1 = 99\\n    print(a1)\\n    print('hahaha')\\n    global a2 \\n    a2 = 90\\n    print(a2)\\n\\nprint('a1 = {0}'.format(a1))\\nfunc()\\nprint('执行函数后 a1 = {0}'.format(a1))\\nprint(a2) \", \"a1 = 100\\ndef func():\\n    global a1\\n    a1 = 99\\n    print(a1)\\n    print('hahaha')\\n    global a2 \\n    a2 = 90\\n    print(a2)\\n\\nprint('没有执行函数前 a1 = {0}'.format(a1))\\nfunc()\\nprint('执行函数后 a1 = {0}'.format(a1))\\nprint(a2) \", 'a = 1\\nb = 2\\ndef func(c,d):\\n    e = 333\\n    print(\"locals ={0}\".format(locals()))\\n    print(\"globals ={0}\".format(globals()))\\n    ', 'a = 1\\nb = 2\\ndef func(c,d):\\n    e = 333\\n    print(\"locals ={0}\".format(locals()))\\n    print(\"globals ={0}\".format(globals()))\\nfunc(444,555)\\n    '], '_oh': {}, '_dh': ['/home/tlxy/tulingxueyuan'], 'In': ['', \"a1 = 100\\ndef func():\\n    print(a1)\\n    print('hahaha')\\n    a2 = 90\\n    print(a2)\\n\\nfunc()\\nprint(a1)\", \"a1 = 100\\ndef func():\\n    print(a1)\\n    print('hahaha')\\n    a2 = 90\\n    print(a2)\\n\\nfunc()\\nprint(a1)\\n#print(a2) #这里 print(a2)报错因为没有定义\", \"a1 = 100\\ndef func():\\n    print(a1)\\n    print('hahaha')\\n    a2 = 90\\n    print(a2)\\n\\nfunc()\\nprint(a1)\\nprint(a2) #这里 print(a2)报错因为没有定义\", \"a1 = 100\\ndef func():\\n    print(a1)\\n    print('hahaha')\\n    a2 = 90\\n    print(a2)\\n\\nfunc()\\nprint(a1)\\n#print(a2) #这里 print(a2)报错因为没有定义\", \"a1 = 100\\ndef func():\\n    a1 = 99\\n    print(a1)\\n    print('hahaha')\\n    a2 = 90\\n    print(a2)\\n\\nfunc()\\nprint(a1)\\n#print(a2) #这里 print(a2)报错因为没有定义\", \"a1 = 100\\ndef func():\\n    a1 = 99\\n    print(a1)\\n    print('hahaha')\\n    global a2 = 90\\n    print(a2)\\n\\nfunc()\\nprint(a1)\\nprint(a2) \", \"a1 = 100\\ndef func():\\n    a1 = 99\\n    print(a1)\\n    print('hahaha')\\n    global a2 \\n    a2 = 90\\n    print(a2)\\n\\nfunc()\\nprint(a1)\\nprint(a2) \", \"a1 = 100\\ndef func():\\n    a1 = 99\\n    print(a1)\\n    print('hahaha')\\n    global a2 \\n    a2 = 90\\n    print(a2)\\n\\nprint(a1)\\nfunc()\\nprint(a1)\\nprint(a2) \", \"a1 = 100\\ndef func():\\n    a1 = 99\\n    print(a1)\\n    print('hahaha')\\n    global a2 \\n    a2 = 90\\n    print(a2)\\n\\nprint('a1 = {0}'.format(a1))\\nfunc()\\nprint(a1)\\nprint(a2) \", \"a1 = 100\\ndef func():\\n    global a1\\n    a1 = 99\\n    print(a1)\\n    print('hahaha')\\n    global a2 \\n    a2 = 90\\n    print(a2)\\n\\nprint('a1 = {0}'.format(a1))\\nfunc()\\nprint('执行函数后 a1 = {0}'.format(a1))\\nprint(a2) \", \"a1 = 100\\ndef func():\\n    global a1\\n    a1 = 99\\n    print(a1)\\n    print('hahaha')\\n    global a2 \\n    a2 = 90\\n    print(a2)\\n\\nprint('没有执行函数前 a1 = {0}'.format(a1))\\nfunc()\\nprint('执行函数后 a1 = {0}'.format(a1))\\nprint(a2) \", 'a = 1\\nb = 2\\ndef func(c,d):\\n    e = 333\\n    print(\"locals ={0}\".format(locals()))\\n    print(\"globals ={0}\".format(globals()))\\n    ', 'a = 1\\nb = 2\\ndef func(c,d):\\n    e = 333\\n    print(\"locals ={0}\".format(locals()))\\n    print(\"globals ={0}\".format(globals()))\\nfunc(444,555)\\n    '], 'Out': {}, 'get_ipython': <bound method InteractiveShell.get_ipython of <ipykernel.zmqshell.ZMQInteractiveShell object at 0x7f75968860b8>>, 'exit': <IPython.core.autocall.ZMQExitAutocall object at 0x7f7596844f60>, 'quit': <IPython.core.autocall.ZMQExitAutocall object at 0x7f7596844f60>, '_': '', '__': '', '___': '', '_i': 'a = 1\\nb = 2\\ndef func(c,d):\\n    e = 333\\n    print(\"locals ={0}\".format(locals()))\\n    print(\"globals ={0}\".format(globals()))\\n    ', '_ii': \"a1 = 100\\ndef func():\\n    global a1\\n    a1 = 99\\n    print(a1)\\n    print('hahaha')\\n    global a2 \\n    a2 = 90\\n    print(a2)\\n\\nprint('没有执行函数前 a1 = {0}'.format(a1))\\nfunc()\\nprint('执行函数后 a1 = {0}'.format(a1))\\nprint(a2) \", '_iii': \"a1 = 100\\ndef func():\\n    global a1\\n    a1 = 99\\n    print(a1)\\n    print('hahaha')\\n    global a2 \\n    a2 = 90\\n    print(a2)\\n\\nprint('a1 = {0}'.format(a1))\\nfunc()\\nprint('执行函数后 a1 = {0}'.format(a1))\\nprint(a2) \", '_i1': \"a1 = 100\\ndef func():\\n    print(a1)\\n    print('hahaha')\\n    a2 = 90\\n    print(a2)\\n\\nfunc()\\nprint(a1)\", 'a1': 99, 'func': <function func at 0x7f7586698ae8>, '_i2': \"a1 = 100\\ndef func():\\n    print(a1)\\n    print('hahaha')\\n    a2 = 90\\n    print(a2)\\n\\nfunc()\\nprint(a1)\\n#print(a2) #这里 print(a2)报错因为没有定义\", '_i3': \"a1 = 100\\ndef func():\\n    print(a1)\\n    print('hahaha')\\n    a2 = 90\\n    print(a2)\\n\\nfunc()\\nprint(a1)\\nprint(a2) #这里 print(a2)报错因为没有定义\", '_i4': \"a1 = 100\\ndef func():\\n    print(a1)\\n    print('hahaha')\\n    a2 = 90\\n    print(a2)\\n\\nfunc()\\nprint(a1)\\n#print(a2) #这里 print(a2)报错因为没有定义\", '_i5': \"a1 = 100\\ndef func():\\n    a1 = 99\\n    print(a1)\\n    print('hahaha')\\n    a2 = 90\\n    print(a2)\\n\\nfunc()\\nprint(a1)\\n#print(a2) #这里 print(a2)报错因为没有定义\", '_i6': \"a1 = 100\\ndef func():\\n    a1 = 99\\n    print(a1)\\n    print('hahaha')\\n    global a2 = 90\\n    print(a2)\\n\\nfunc()\\nprint(a1)\\nprint(a2) \", '_i7': \"a1 = 100\\ndef func():\\n    a1 = 99\\n    print(a1)\\n    print('hahaha')\\n    global a2 \\n    a2 = 90\\n    print(a2)\\n\\nfunc()\\nprint(a1)\\nprint(a2) \", 'a2': 90, '_i8': \"a1 = 100\\ndef func():\\n    a1 = 99\\n    print(a1)\\n    print('hahaha')\\n    global a2 \\n    a2 = 90\\n    print(a2)\\n\\nprint(a1)\\nfunc()\\nprint(a1)\\nprint(a2) \", '_i9': \"a1 = 100\\ndef func():\\n    a1 = 99\\n    print(a1)\\n    print('hahaha')\\n    global a2 \\n    a2 = 90\\n    print(a2)\\n\\nprint('a1 = {0}'.format(a1))\\nfunc()\\nprint(a1)\\nprint(a2) \", '_i10': \"a1 = 100\\ndef func():\\n    global a1\\n    a1 = 99\\n    print(a1)\\n    print('hahaha')\\n    global a2 \\n    a2 = 90\\n    print(a2)\\n\\nprint('a1 = {0}'.format(a1))\\nfunc()\\nprint('执行函数后 a1 = {0}'.format(a1))\\nprint(a2) \", '_i11': \"a1 = 100\\ndef func():\\n    global a1\\n    a1 = 99\\n    print(a1)\\n    print('hahaha')\\n    global a2 \\n    a2 = 90\\n    print(a2)\\n\\nprint('没有执行函数前 a1 = {0}'.format(a1))\\nfunc()\\nprint('执行函数后 a1 = {0}'.format(a1))\\nprint(a2) \", '_i12': 'a = 1\\nb = 2\\ndef func(c,d):\\n    e = 333\\n    print(\"locals ={0}\".format(locals()))\\n    print(\"globals ={0}\".format(globals()))\\n    ', 'a': 1, 'b': 2, '_i13': 'a = 1\\nb = 2\\ndef func(c,d):\\n    e = 333\\n    print(\"locals ={0}\".format(locals()))\\n    print(\"globals ={0}\".format(globals()))\\nfunc(444,555)\\n    '}\n"
     ]
    }
   ],
   "source": [
    "a = 1\n",
    "b = 2\n",
    "def func(c,d):\n",
    "    e = 333\n",
    "    print(\"locals ={0}\".format(locals()))\n",
    "    print(\"globals ={0}\".format(globals()))\n",
    "func(444,555)\n",
    "    "
   ]
  },
  {
   "cell_type": "markdown",
   "metadata": {},
   "source": [
    "## eval函数\n",
    "- 把一个字符串当成表达式执行,返回表达式执行后的结果\n",
    "- 语法\n",
    "        \n",
    "        eval(string_code,globals = None,locals = None)\n"
   ]
  },
  {
   "cell_type": "code",
   "execution_count": 19,
   "metadata": {},
   "outputs": [
    {
     "name": "stdout",
     "output_type": "stream",
     "text": [
      "300\n",
      "300\n",
      "True\n"
     ]
    }
   ],
   "source": [
    "x = 100\n",
    "y = 200\n",
    "z1 = x+y\n",
    "z2 = eval('x+y')\n",
    "print(z1)\n",
    "print(z2)\n",
    "print(z1 == z2)"
   ]
  },
  {
   "cell_type": "markdown",
   "metadata": {},
   "source": [
    "## exec函数\n",
    "- 跟eval函数类似,但没有返回结果"
   ]
  },
  {
   "cell_type": "code",
   "execution_count": 20,
   "metadata": {},
   "outputs": [
    {
     "name": "stdout",
     "output_type": "stream",
     "text": [
      "300\n",
      "None\n",
      "False\n"
     ]
    }
   ],
   "source": [
    "x = 100\n",
    "y = 200\n",
    "z1 = x+y\n",
    "z2 = exec('x+y')\n",
    "print(z1)\n",
    "print(z2)\n",
    "print(z1 == z2)"
   ]
  },
  {
   "cell_type": "markdown",
   "metadata": {},
   "source": [
    "## 递归函数\n",
    "- 函数直接或者间接调用自身\n",
    "- 优点: 简洁,理解容易\n",
    "- 缺点: 对递归深度有限制,消耗资源大 \n",
    "- python对递归深度有限制,超过限制报错( maximum recursion depth exceeded in comparison)"
   ]
  },
  {
   "cell_type": "code",
   "execution_count": 26,
   "metadata": {},
   "outputs": [
    {
     "name": "stdout",
     "output_type": "stream",
     "text": [
      "10\n",
      "9\n",
      "8\n",
      "7\n",
      "6\n",
      "5\n",
      "4\n",
      "3\n",
      "2\n",
      "1\n"
     ]
    }
   ],
   "source": [
    "x  = 10\n",
    "def func():\n",
    "    global x\n",
    "    print(x)\n",
    "    x -= 1\n",
    "    if(x == 0):\n",
    "        return\n",
    "    func()\n",
    "\n",
    "func()"
   ]
  },
  {
   "cell_type": "markdown",
   "metadata": {},
   "source": [
    "### 斐波那契数列\n",
    "- 一列数字,第一个值是1,第二个值也是1,从第三个开始,每个数字等于前面两个数字的值和\n",
    "- 数学公式 f(1) = 1, f(2) =1 , f(n) = f(n-1) + f(n-2)\n",
    "- 即1,1,2,3,5,8,13,21......."
   ]
  },
  {
   "cell_type": "code",
   "execution_count": 36,
   "metadata": {},
   "outputs": [
    {
     "name": "stdout",
     "output_type": "stream",
     "text": [
      "1\n",
      "1\n",
      "2\n",
      "3\n",
      "5\n",
      "55\n",
      "0\n"
     ]
    }
   ],
   "source": [
    "def fib(n):\n",
    "    if(n<0):\n",
    "        return 0\n",
    "    if(n == 1):\n",
    "        return 1\n",
    "    if(n == 2):\n",
    "        return 1\n",
    "    return fib(n-1) + fib(n-2)\n",
    "\n",
    "print(fib(1))\n",
    "print(fib(2))\n",
    "print(fib(3))\n",
    "print(fib(4))\n",
    "print(fib(5))\n",
    "print(fib(10))\n",
    "print(fib(-10))"
   ]
  }
 ],
 "metadata": {
  "kernelspec": {
   "display_name": "Python 3",
   "language": "python",
   "name": "python3"
  },
  "language_info": {
   "codemirror_mode": {
    "name": "ipython",
    "version": 3
   },
   "file_extension": ".py",
   "mimetype": "text/x-python",
   "name": "python",
   "nbconvert_exporter": "python",
   "pygments_lexer": "ipython3",
   "version": "3.6.3"
  }
 },
 "nbformat": 4,
 "nbformat_minor": 2
}
