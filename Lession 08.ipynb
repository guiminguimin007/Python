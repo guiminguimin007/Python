{
 "cells": [
  {
   "cell_type": "markdown",
   "metadata": {},
   "source": [
    "# 集合 set\n",
    "- 集合是高中数学的概念\n",
    "- 一堆确定的无序的唯一的数据,集合中每一个数据成为一个元素"
   ]
  },
  {
   "cell_type": "code",
   "execution_count": 3,
   "metadata": {},
   "outputs": [
    {
     "name": "stdout",
     "output_type": "stream",
     "text": [
      "<class 'set'>\n",
      "set()\n",
      "<class 'set'>\n",
      "{1, 2, 'a'}\n",
      "<class 'dict'>\n",
      "{}\n"
     ]
    }
   ],
   "source": [
    "# 定义\n",
    "s = set()\n",
    "print(type(s))\n",
    "print(s)\n",
    "\n",
    "#大括号里面一定要有值,否则就是一个dict的类型了\n",
    "s1 = {1,'a',2}\n",
    "print(type(s1))\n",
    "print(s1)\n",
    "\n",
    "s2 = {}\n",
    "print(type(s2))\n",
    "print(s2)"
   ]
  },
  {
   "cell_type": "markdown",
   "metadata": {},
   "source": [
    "## 集合的特征\n",
    "- 集合内数据无序,即无法使用索引和分片\n",
    "- 集合内数据元素具有唯一性,可以用来排除重复数据\n",
    "- 集合内的数据,str,int,float,tuple,冰冻集合等,即内部只能放置可以哈希数据"
   ]
  },
  {
   "cell_type": "markdown",
   "metadata": {},
   "source": [
    "## 集合的操作\n",
    "- in,not in"
   ]
  },
  {
   "cell_type": "code",
   "execution_count": 11,
   "metadata": {},
   "outputs": [
    {
     "name": "stdout",
     "output_type": "stream",
     "text": [
      "{4, 5, 'love', 'u', 'i'}\n",
      "False\n",
      "True\n"
     ]
    }
   ],
   "source": [
    "#in,not in\n",
    "s = {4,5,'i','love','u'}\n",
    "print(s)\n",
    "print( 3 in s)\n",
    "print('i' in s)"
   ]
  },
  {
   "cell_type": "markdown",
   "metadata": {},
   "source": [
    "# 集合的遍历操作\n"
   ]
  },
  {
   "cell_type": "code",
   "execution_count": 2,
   "metadata": {},
   "outputs": [
    {
     "name": "stdout",
     "output_type": "stream",
     "text": [
      "4 5 i u love "
     ]
    }
   ],
   "source": [
    "#for\n",
    "s = {4,5,'i','love','u'}\n",
    "for i in s:\n",
    "    print(i, end =' ')"
   ]
  },
  {
   "cell_type": "code",
   "execution_count": 4,
   "metadata": {},
   "outputs": [
    {
     "name": "stdout",
     "output_type": "stream",
     "text": [
      "i -- love -- u\n",
      "4 -- 5 -- 6\n",
      "1 -- 2 -- 3\n",
      "('i', 'love', 'u')\n",
      "(4, 5, 6)\n",
      "(1, 2, 3)\n"
     ]
    }
   ],
   "source": [
    "# 带有元组的集合遍历\n",
    "s = {(1,2,3),('i','love','u'),(4,5,6)}\n",
    "\n",
    "for x,y,z in s:\n",
    "    print(x,'--',y,'--',z)\n",
    "for k in s:\n",
    "    print(k)"
   ]
  },
  {
   "cell_type": "markdown",
   "metadata": {},
   "source": [
    "# 集合的内涵\n"
   ]
  },
  {
   "cell_type": "code",
   "execution_count": 8,
   "metadata": {},
   "outputs": [
    {
     "name": "stdout",
     "output_type": "stream",
     "text": [
      "{32, 545, 1, 3, 4, 2, 23, 223}\n",
      "{32, 2, 4}\n"
     ]
    }
   ],
   "source": [
    "# 普通集合内涵\n",
    "# 自动过滤重复元素\n",
    "s = {23,223,545,3,32,4,1,2,3,1,2,3,223}\n",
    "print(s)\n",
    "\n",
    "# 带条件的集合内涵\n",
    "ss = {i for i in s if i % 2 == 0}\n",
    "print (ss)"
   ]
  },
  {
   "cell_type": "code",
   "execution_count": 10,
   "metadata": {},
   "outputs": [
    {
     "name": "stdout",
     "output_type": "stream",
     "text": [
      "{'uuu', 'uu', 'i', 'u', 'love', 'ii', 'iii', 'lovelovelove', 'lovelove'}\n",
      "{'uu', 'lovelove', 'ii'}\n"
     ]
    }
   ],
   "source": [
    "# 多循环的集合内涵\n",
    "s1 = {1,2,3}\n",
    "s2 = {'i','love','u'}\n",
    "s = {m*n for m in s2 for n in s1}\n",
    "print(s)\n",
    "\n",
    "ss = {m*n for m in s2 for n in s1 if n == 2}\n",
    "print(ss)"
   ]
  },
  {
   "cell_type": "markdown",
   "metadata": {},
   "source": [
    "# 函数"
   ]
  },
  {
   "cell_type": "code",
   "execution_count": 11,
   "metadata": {},
   "outputs": [
    {
     "name": "stdout",
     "output_type": "stream",
     "text": [
      "8\n",
      "66\n",
      "1\n"
     ]
    }
   ],
   "source": [
    "# len,max,min\n",
    "s = {1,43,22,32,54,66,9,4,1}\n",
    "print(len(s)) # 重复的过滤掉,所以数量为8\n",
    "print(max(s))\n",
    "print(min(s))"
   ]
  },
  {
   "cell_type": "code",
   "execution_count": 12,
   "metadata": {},
   "outputs": [
    {
     "name": "stdout",
     "output_type": "stream",
     "text": [
      "{1, 2, 3, 4, 5}\n"
     ]
    }
   ],
   "source": [
    "# set:生成一个集合\n",
    "l = [1,2,3,4,5,1,2,3]\n",
    "ss  = set(l)\n",
    "print(ss)"
   ]
  },
  {
   "cell_type": "code",
   "execution_count": 13,
   "metadata": {},
   "outputs": [
    {
     "name": "stdout",
     "output_type": "stream",
     "text": [
      "{1, 2, 3, 4, 5, 6}\n"
     ]
    }
   ],
   "source": [
    "# add:向集合添加元素\n",
    "s = {2,3,4,5,6}\n",
    "s.add(1)\n",
    "print(s)"
   ]
  },
  {
   "cell_type": "code",
   "execution_count": 14,
   "metadata": {},
   "outputs": [
    {
     "name": "stdout",
     "output_type": "stream",
     "text": [
      "set()\n"
     ]
    }
   ],
   "source": [
    "# clear 清空集合\n",
    "s.clear()\n",
    "print(s)"
   ]
  },
  {
   "cell_type": "code",
   "execution_count": 18,
   "metadata": {},
   "outputs": [
    {
     "name": "stdout",
     "output_type": "stream",
     "text": [
      "{3, 4, 5, 6}\n",
      "**************************************************\n"
     ]
    },
    {
     "ename": "KeyError",
     "evalue": "2",
     "output_type": "error",
     "traceback": [
      "\u001b[0;31m---------------------------------------------------------------------------\u001b[0m",
      "\u001b[0;31mKeyError\u001b[0m                                  Traceback (most recent call last)",
      "\u001b[0;32m<ipython-input-18-4b6428c7ab3e>\u001b[0m in \u001b[0;36m<module>\u001b[0;34m()\u001b[0m\n\u001b[1;32m      8\u001b[0m \u001b[0ms\u001b[0m\u001b[0;34m.\u001b[0m\u001b[0mdiscard\u001b[0m\u001b[0;34m(\u001b[0m\u001b[0;36m2\u001b[0m\u001b[0;34m)\u001b[0m\u001b[0;34m\u001b[0m\u001b[0m\n\u001b[1;32m      9\u001b[0m \u001b[0mprint\u001b[0m\u001b[0;34m(\u001b[0m\u001b[0;34m'*'\u001b[0m\u001b[0;34m*\u001b[0m\u001b[0;36m50\u001b[0m\u001b[0;34m)\u001b[0m\u001b[0;34m\u001b[0m\u001b[0m\n\u001b[0;32m---> 10\u001b[0;31m \u001b[0ms\u001b[0m\u001b[0;34m.\u001b[0m\u001b[0mremove\u001b[0m\u001b[0;34m(\u001b[0m\u001b[0;36m2\u001b[0m\u001b[0;34m)\u001b[0m\u001b[0;34m\u001b[0m\u001b[0m\n\u001b[0m",
      "\u001b[0;31mKeyError\u001b[0m: 2"
     ]
    }
   ],
   "source": [
    "# copy:拷贝\n",
    "# remove:移除指定的值,移除的值不存在,会报错,报keyerror\n",
    "# discard:移除集合中指定的值,移除的值不存在,不会报错\n",
    "\n",
    "s = {2,3,4,5,6}\n",
    "s.discard(2)\n",
    "print(s)\n",
    "s.discard(2)\n",
    "print('*'*50)\n",
    "s.remove(2)"
   ]
  },
  {
   "cell_type": "code",
   "execution_count": 36,
   "metadata": {},
   "outputs": [
    {
     "name": "stdout",
     "output_type": "stream",
     "text": [
      "3\n"
     ]
    }
   ],
   "source": [
    "# pop 弹出一个数\n",
    "s = {22.2,3,4,5,6}\n",
    "print(s.pop())"
   ]
  },
  {
   "cell_type": "markdown",
   "metadata": {},
   "source": [
    "# 交\\差\\并\\补集\n",
    "- intersection:交集\n",
    "- difference:差集\n",
    "- union:并集\n",
    "- issubset:检查是否子集\n"
   ]
  },
  {
   "cell_type": "code",
   "execution_count": 44,
   "metadata": {},
   "outputs": [
    {
     "name": "stdout",
     "output_type": "stream",
     "text": [
      "{8, 9, 6, 7}\n",
      "**************************************************\n",
      "{1, 2, 3, 4, 5}\n",
      "{10, 11, 12, 13}\n",
      "**************************************************\n",
      "{1, 2, 3, 4, 5, 6, 7, 8, 9, 10, 11, 12, 13}\n",
      "**************************************************\n",
      "True\n",
      "False\n"
     ]
    }
   ],
   "source": [
    "#\n",
    "s1 = {1,2,3,4,5,6,7,8,9}\n",
    "s2 = {6,7,8,9,10,11,12,13}\n",
    "s3 ={5,6,7}\n",
    "si = s1.intersection(s2)\n",
    "print(si)\n",
    "print('*'*50)\n",
    "sd1 = s1.difference(s2)\n",
    "sd2 = s2.difference(s1)\n",
    "print(sd1)\n",
    "print(sd2)\n",
    "print('*'*50)\n",
    "su = s1.union(s2)\n",
    "print(su)\n",
    "print('*'*50)\n",
    "print(s3.issubset(s1))\n",
    "print(s3.issubset(s2))"
   ]
  },
  {
   "cell_type": "code",
   "execution_count": 46,
   "metadata": {},
   "outputs": [
    {
     "name": "stdout",
     "output_type": "stream",
     "text": [
      "{1, 2, 3, 4, 5}\n"
     ]
    },
    {
     "ename": "TypeError",
     "evalue": "unsupported operand type(s) for +: 'set' and 'set'",
     "output_type": "error",
     "traceback": [
      "\u001b[0;31m---------------------------------------------------------------------------\u001b[0m",
      "\u001b[0;31mTypeError\u001b[0m                                 Traceback (most recent call last)",
      "\u001b[0;32m<ipython-input-46-69974ce9790a>\u001b[0m in \u001b[0;36m<module>\u001b[0;34m()\u001b[0m\n\u001b[1;32m      6\u001b[0m \u001b[0mprint\u001b[0m\u001b[0;34m(\u001b[0m\u001b[0ms_1\u001b[0m\u001b[0;34m)\u001b[0m\u001b[0;34m\u001b[0m\u001b[0m\n\u001b[1;32m      7\u001b[0m \u001b[0;34m\u001b[0m\u001b[0m\n\u001b[0;32m----> 8\u001b[0;31m \u001b[0ms_2\u001b[0m \u001b[0;34m=\u001b[0m \u001b[0ms1\u001b[0m \u001b[0;34m+\u001b[0m \u001b[0ms2\u001b[0m\u001b[0;34m\u001b[0m\u001b[0m\n\u001b[0m\u001b[1;32m      9\u001b[0m \u001b[0mprint\u001b[0m\u001b[0;34m(\u001b[0m\u001b[0ms_2\u001b[0m\u001b[0;34m)\u001b[0m\u001b[0;34m\u001b[0m\u001b[0m\n",
      "\u001b[0;31mTypeError\u001b[0m: unsupported operand type(s) for +: 'set' and 'set'"
     ]
    }
   ],
   "source": [
    "#\n",
    "s1 = {1,2,3,4,5,6,7,8,9}\n",
    "s2 = {6,7,8,9,10,11,12,13}\n",
    "\n",
    "s_1 = s1 - s2\n",
    "print(s_1)\n",
    "\n",
    "#报错,不可以这样操作\n",
    "s_2 = s1 + s2\n",
    "print(s_2)"
   ]
  },
  {
   "cell_type": "markdown",
   "metadata": {},
   "source": [
    "# 冰冻集合\n",
    "- frozen set\n",
    "- 冰冻集合就是不可以进行任何修改的集合\n",
    "- 特殊集合,包含除了修改外的其他集合特性"
   ]
  },
  {
   "cell_type": "code",
   "execution_count": 47,
   "metadata": {},
   "outputs": [
    {
     "name": "stdout",
     "output_type": "stream",
     "text": [
      "<class 'frozenset'>\n",
      "frozenset()\n"
     ]
    }
   ],
   "source": [
    "s = frozenset()\n",
    "print(type(s))\n",
    "print(s)"
   ]
  },
  {
   "cell_type": "markdown",
   "metadata": {},
   "source": [
    "# dict字典\n",
    "- 字典是一种组合数据,没有顺序的组合数据,数据以键\\值成对形式出现"
   ]
  },
  {
   "cell_type": "code",
   "execution_count": 49,
   "metadata": {},
   "outputs": [
    {
     "name": "stdout",
     "output_type": "stream",
     "text": [
      "<class 'dict'>\n",
      "<class 'dict'>\n"
     ]
    }
   ],
   "source": [
    "#创建空\n",
    "d= {}\n",
    "print(type(d))\n",
    "dd = dict()\n",
    "print(type(dd))"
   ]
  },
  {
   "cell_type": "code",
   "execution_count": 53,
   "metadata": {},
   "outputs": [
    {
     "name": "stdout",
     "output_type": "stream",
     "text": [
      "{'one': 1, 'two': 2, 'three': 3}\n",
      "{'one': 1, 'two': 2, 'three': 3}\n",
      "{'one': 11, 'two': 22, 'three': 33}\n",
      "{'one': 111, 'two': 222, 'three': 333}\n"
     ]
    }
   ],
   "source": [
    "#创建有值 建议用这种 \n",
    "d = {'one':1,'two':2,'three':3}\n",
    "print(d)\n",
    "d = dict({'one':1,'two':2,'three':3})\n",
    "print(d)\n",
    "\n",
    "#关键字\n",
    "d = dict(one=11,two=22,three=33)\n",
    "print(d)\n",
    "\n",
    "d = dict([('one',111),('two',222),('three',333)])\n",
    "print(d)"
   ]
  },
  {
   "cell_type": "markdown",
   "metadata": {},
   "source": [
    "## 字典的特征\n",
    "- 字典是序列类型,但是是无序序列,所以没有分片和集合\n",
    "- 字典中的数据每个都有键值对组合,即kv(key , value)\n",
    "    - key:必须是可哈希的值,比如int,string,float,tuple,但list,set,dict不行\n",
    "    - value:任何值"
   ]
  },
  {
   "cell_type": "markdown",
   "metadata": {},
   "source": [
    "## 字典常见操作\n",
    "- d[key] 中括号内是键key"
   ]
  },
  {
   "cell_type": "code",
   "execution_count": 59,
   "metadata": {},
   "outputs": [
    {
     "name": "stdout",
     "output_type": "stream",
     "text": [
      "1\n",
      "{'one': 11, 'two': 2, 'three': 3}\n",
      "{'one': 11, 'three': 3}\n"
     ]
    }
   ],
   "source": [
    "# 访问数据\n",
    "d = {'one':1,'two':2,'three':3}\n",
    "print(d['one'])\n",
    "\n",
    "d['one'] = 11\n",
    "print(d)\n",
    "\n",
    "# del 删除\n",
    "del d['two']\n",
    "print(d)"
   ]
  },
  {
   "cell_type": "code",
   "execution_count": 60,
   "metadata": {},
   "outputs": [
    {
     "name": "stdout",
     "output_type": "stream",
     "text": [
      "key\n"
     ]
    }
   ],
   "source": [
    "# 成员检查 in ,not in \n",
    "# 检测的是 键是否存在 .就像查字典一样\n",
    "d = {'one':1,'two':2,'three':3}\n",
    "\n",
    "if 2 in d:\n",
    "    print('value')\n",
    "if 'two' in d:\n",
    "    print('key')\n",
    "if (\"two\",2) in d:\n",
    "    print('kv')\n"
   ]
  },
  {
   "cell_type": "code",
   "execution_count": 64,
   "metadata": {},
   "outputs": [
    {
     "name": "stdout",
     "output_type": "stream",
     "text": [
      "one 1\n",
      "two 2\n",
      "three 3\n",
      "one 1\n",
      "two 2\n",
      "three 3\n",
      "1\n",
      "2\n",
      "3\n",
      "one -- 1\n",
      "two -- 2\n",
      "three -- 3\n"
     ]
    }
   ],
   "source": [
    "# for\n",
    "# 直接按 key 值访问\n",
    "d = {'one':1,'two':2,'three':3}\n",
    "for k in d:\n",
    "    print(k,d[k])\n",
    "#也可与\n",
    "for k in d.keys():\n",
    "    print(k,d[k])\n",
    "for v in d.values():\n",
    "    print(v)\n",
    "\n",
    "# 需要用items()来遍历\n",
    "for k,v in d.items():\n",
    "    print(k,'--',v)"
   ]
  },
  {
   "cell_type": "markdown",
   "metadata": {},
   "source": [
    "## 字典生成式"
   ]
  },
  {
   "cell_type": "code",
   "execution_count": 65,
   "metadata": {},
   "outputs": [
    {
     "name": "stdout",
     "output_type": "stream",
     "text": [
      "{'two': 2}\n"
     ]
    }
   ],
   "source": [
    "d = {'one':1,'two':2,'three':3}\n",
    "\n",
    "dd = {k:v for k,v in d.items() if v%2 == 0}\n",
    "print(dd)"
   ]
  },
  {
   "cell_type": "markdown",
   "metadata": {},
   "source": [
    "## 字典相关函数"
   ]
  },
  {
   "cell_type": "code",
   "execution_count": 67,
   "metadata": {},
   "outputs": [
    {
     "name": "stdout",
     "output_type": "stream",
     "text": [
      "{'one': 1, 'two': 2, 'three': 3}\n",
      "{}\n"
     ]
    }
   ],
   "source": [
    "# len,max,min,dict\n",
    "# str(字典):返回字典的字符串格式\n",
    "d = {'one':1,'two':2,'three':3}\n",
    "print(str(d))\n",
    "\n",
    "# clear:清空\n",
    "d.clear()\n",
    "print(d)"
   ]
  },
  {
   "cell_type": "code",
   "execution_count": 70,
   "metadata": {},
   "outputs": [
    {
     "name": "stdout",
     "output_type": "stream",
     "text": [
      "<class 'dict_items'>\n",
      "dict_items([('one', 1), ('two', 2), ('three', 3)])\n",
      "<class 'dict_keys'>\n",
      "dict_keys(['one', 'two', 'three'])\n",
      "<class 'dict_values'>\n",
      "dict_values([1, 2, 3])\n"
     ]
    }
   ],
   "source": [
    "# items:返回字典的键值的元组格式  dict_items\n",
    "d = {'one':1,'two':2,'three':3}\n",
    "i = d.items()\n",
    "print(type(i))\n",
    "print(i)\n",
    "\n",
    "# keys 返回字典的键组成的一个结构 dict_keys\n",
    "k = d.keys()\n",
    "print(type(k))\n",
    "print(k)\n",
    "\n",
    "# values:同理,返回值的一个结构 dict_values\n",
    "v = d.values()\n",
    "print(type(v))\n",
    "print(v)"
   ]
  },
  {
   "cell_type": "code",
   "execution_count": 75,
   "metadata": {},
   "outputs": [
    {
     "name": "stdout",
     "output_type": "stream",
     "text": [
      "None\n",
      "**************************************************\n",
      "112\n"
     ]
    }
   ],
   "source": [
    "# get:根据指定键,返回相应值,可以设置默认值\n",
    "d = {'one':1,'two':2,'three':3}\n",
    "\n",
    "print(d.get('one12'))\n",
    "print('*'*50)\n",
    "#print(d['one12'])  会报错,keyerror\n",
    "\n",
    "print(d.get('one12',112))"
   ]
  },
  {
   "cell_type": "code",
   "execution_count": 76,
   "metadata": {},
   "outputs": [
    {
     "name": "stdout",
     "output_type": "stream",
     "text": [
      "{'eins': '321654', 'zwei': '321654', 'dree': '321654'}\n"
     ]
    }
   ],
   "source": [
    "# fromkeys: 使用指定序列作为键,使用一个值作为字典的所有值\n",
    "l = ['eins','zwei','dree']\n",
    "# 注意fromkeys的调用主体用dict ,注意两个参数的类型\n",
    "d = dict.fromkeys(l,'321654')\n",
    "print(d)"
   ]
  },
  {
   "cell_type": "code",
   "execution_count": null,
   "metadata": {
    "collapsed": true
   },
   "outputs": [],
   "source": []
  }
 ],
 "metadata": {
  "kernelspec": {
   "display_name": "Python 3",
   "language": "python",
   "name": "python3"
  },
  "language_info": {
   "codemirror_mode": {
    "name": "ipython",
    "version": 3
   },
   "file_extension": ".py",
   "mimetype": "text/x-python",
   "name": "python",
   "nbconvert_exporter": "python",
   "pygments_lexer": "ipython3",
   "version": "3.6.3"
  }
 },
 "nbformat": 4,
 "nbformat_minor": 2
}
