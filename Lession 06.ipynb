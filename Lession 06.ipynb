{
 "cells": [
  {
   "cell_type": "markdown",
   "metadata": {},
   "source": [
    "# 内置数据结构(变量类型)\n",
    "- list\n",
    "- set\n",
    "- dict\n",
    "- tuple"
   ]
  },
  {
   "cell_type": "markdown",
   "metadata": {},
   "source": [
    "## list(列表)\n",
    "- 一组有顺序的数据的组合\n",
    "- 创建列表\n",
    "    - 空列表"
   ]
  },
  {
   "cell_type": "code",
   "execution_count": 6,
   "metadata": {},
   "outputs": [
    {
     "name": "stdout",
     "output_type": "stream",
     "text": [
      "<class 'list'>\n",
      "[]\n",
      "<class 'list'>\n",
      "[100, 90, 80, 70, 60, 50, 40]\n",
      "<class 'list'>\n",
      "[12, 23]\n"
     ]
    }
   ],
   "source": [
    "l1 = []\n",
    "print(type(l1))\n",
    "print(l1)\n",
    "\n",
    "l2=[100,90,80,70,60,50,40]\n",
    "print(type(l2))\n",
    "print(l2)\n",
    "\n",
    "l3=list()\n",
    "l3.append(12)\n",
    "l3.append(23)\n",
    "print(type(l3))\n",
    "print(l3)"
   ]
  },
  {
   "cell_type": "markdown",
   "metadata": {},
   "source": [
    "## 列表操作\n",
    "- 使用下标操作(索引)\n",
    "- 列表的位置下标从0开始 ,最后一位下标可以为-1\n",
    "- 正方向l[0,1,2,3,4,....]\n",
    "- 负方向l[...,-4,-3,-2,-1]"
   ]
  },
  {
   "cell_type": "code",
   "execution_count": 8,
   "metadata": {},
   "outputs": [
    {
     "name": "stdout",
     "output_type": "stream",
     "text": [
      "6\n",
      "25\n",
      "77\n",
      "[77, 58, 7, 4, 25, 99]\n"
     ]
    }
   ],
   "source": [
    "l4 = [6,58,7,4,25,99]\n",
    "print(l4[0])\n",
    "print(l4[4])\n",
    "l4[0] = 77\n",
    "print(l4[0])\n",
    "print(l4)"
   ]
  },
  {
   "cell_type": "markdown",
   "metadata": {},
   "source": [
    "## 分片操作\n",
    "- 对列表进行任意段的截取操作\n",
    "- l[a:b] 包含左边的下标值a,不包含右边的下标值b,若正反向则左边小于右边.b超出列表范围则取最大\n",
    "- l[a:b:c] c表示步长,默认1,从左往右.可以为负,表示排列反向从右往左\n",
    "- l[-1::-1] 把列表倒序排列\n",
    "- 分片操作其实是新生成一个新的列表"
   ]
  },
  {
   "cell_type": "code",
   "execution_count": 17,
   "metadata": {},
   "outputs": [
    {
     "name": "stdout",
     "output_type": "stream",
     "text": [
      "[4, 78, 9, 3, 5, 7, 96, 5]\n",
      "[22, 5, 4, 78, 9, 3]\n",
      "[22, 4, 9, 5, 96]\n",
      "[5, 96, 7, 5, 3, 9, 78, 4, 5, 22]\n",
      "[3, 5, 7]\n"
     ]
    }
   ],
   "source": [
    "l = [22,5,4,78,9,3,5,7,96,5]\n",
    "l1 = l[2:99]\n",
    "print(l1)\n",
    "l2 = l[:6]\n",
    "print(l2)\n",
    "l3 = l[::2]\n",
    "print(l3)\n",
    "l4 = l[-1::-1] #其实就是把列表倒序排列\n",
    "print(l4)\n",
    "l5= l[-5:-2]\n",
    "print(l5)"
   ]
  },
  {
   "cell_type": "code",
   "execution_count": 25,
   "metadata": {},
   "outputs": [
    {
     "name": "stdout",
     "output_type": "stream",
     "text": [
      "l1_id: 139744616852296\n",
      "l2_id: 139744616350920\n",
      "l3_id: 139744616852296\n",
      "l1: [99, 6, 5, 7, 9, 5, 4]\n",
      "l2: [2, 6, 5, 7, 9, 5, 4]\n",
      "l3: [99, 6, 5, 7, 9, 5, 4]\n",
      "l4_id: 139744676656200\n",
      "l4: [99, 6, 5, 7, 9, 5, 4]\n",
      "l1: [1099, 6, 5, 7, 9, 5, 4]\n",
      "l3: [1099, 6, 5, 7, 9, 5, 4]\n",
      "l4: [99, 6, 5, 7, 9, 5, 4]\n"
     ]
    }
   ],
   "source": [
    "# id函数,显示一个变量或者数据的唯一确定编号\n",
    "l1 = [2,6,5,7,9,5,4]\n",
    "l2 = [2,6,5,7,9,5,4]\n",
    "l3 = l1\n",
    "print('l1_id:',id(l1))\n",
    "print('l2_id:',id(l2))\n",
    "print('l3_id:',id(l3))\n",
    "l1[0] = 99\n",
    "print('l1:',l1)\n",
    "print('l2:',l2)\n",
    "print('l3:',l3)\n",
    "\n",
    "l4 = l1[:]\n",
    "print('l4_id:',id(l4))\n",
    "print('l4:',l4)\n",
    "\n",
    "l1[0] = 1099\n",
    "print('l1:',l1)\n",
    "print('l3:',l3)\n",
    "print('l4:',l4)"
   ]
  },
  {
   "cell_type": "markdown",
   "metadata": {},
   "source": [
    "## del删除函数\n",
    "- 原列表中删除下标元素 del list[n]"
   ]
  },
  {
   "cell_type": "code",
   "execution_count": 28,
   "metadata": {},
   "outputs": [
    {
     "name": "stdout",
     "output_type": "stream",
     "text": [
      "[2, 5, 0, 8, 9, 5, 7, 1, 5]\n",
      "139744616352200\n",
      "[2, 5, 8, 9, 5, 7, 1, 5]\n",
      "139744616352200\n"
     ]
    }
   ],
   "source": [
    "l= [2,5,0,8,9,5,7,1,5]\n",
    "print(l)\n",
    "print(id(l))\n",
    "del l[2]\n",
    "print(l)\n",
    "print(id(l))\n",
    "\n",
    "del l\n",
    "#print(l) #这个会报错,因为已经删除了"
   ]
  },
  {
   "cell_type": "markdown",
   "metadata": {},
   "source": [
    "## 列表相加\n",
    "- 使用加号连接两个列表"
   ]
  },
  {
   "cell_type": "code",
   "execution_count": 30,
   "metadata": {},
   "outputs": [
    {
     "name": "stdout",
     "output_type": "stream",
     "text": [
      "[2, 4, 6, 8, 10, 1, 3, 5, 7, 9, 'a', 'c', 'b']\n",
      "[1, 3, 5, 7, 9, 1, 3, 5, 7, 9, 1, 3, 5, 7, 9]\n"
     ]
    }
   ],
   "source": [
    "a = [2,4,6,8,10]\n",
    "b = [1,3,5,7,9]\n",
    "c = ['a','c','b']\n",
    "d = a + b + c\n",
    "print(d)\n",
    "\n",
    "e = b * 3\n",
    "print(e)"
   ]
  },
  {
   "cell_type": "markdown",
   "metadata": {},
   "source": [
    "## 成员资格运算 in \\ not in\n",
    "- 判断一个元素是否在list里面"
   ]
  },
  {
   "cell_type": "code",
   "execution_count": 32,
   "metadata": {},
   "outputs": [
    {
     "name": "stdout",
     "output_type": "stream",
     "text": [
      "False\n",
      "True\n",
      "True\n"
     ]
    }
   ],
   "source": [
    "a = [2,4,6,8,10]\n",
    "b = 3\n",
    "c = 4\n",
    "print(b in a)\n",
    "print(c in a)\n",
    "\n",
    "print(99 not in a)"
   ]
  },
  {
   "cell_type": "markdown",
   "metadata": {},
   "source": [
    "## 列表遍历\n",
    "- for \n",
    "- while"
   ]
  },
  {
   "cell_type": "code",
   "execution_count": 34,
   "metadata": {},
   "outputs": [
    {
     "name": "stdout",
     "output_type": "stream",
     "text": [
      "12\n",
      "5\n",
      "56\n",
      "98\n",
      "44\n",
      "5\n",
      "c\n",
      "i love u\n"
     ]
    }
   ],
   "source": [
    "#for\n",
    "a = [12,5,56,98,44,5,'c']\n",
    "for i in a:\n",
    "    print(i)\n",
    "b =['i love u']\n",
    "for i in b:\n",
    "    print(i)"
   ]
  },
  {
   "cell_type": "code",
   "execution_count": 35,
   "metadata": {},
   "outputs": [
    {
     "name": "stdout",
     "output_type": "stream",
     "text": [
      "2\n",
      "6\n",
      "8\n",
      "45\n",
      "66\n",
      "88\n",
      "94\n"
     ]
    }
   ],
   "source": [
    "#while\n",
    "a = [2,6,8,45,66,88,94]\n",
    "length = len(a)\n",
    "index = 0\n",
    "while index < length:\n",
    "    print(a[index])\n",
    "    index += 1"
   ]
  },
  {
   "cell_type": "markdown",
   "metadata": {},
   "source": [
    "## 双层列表循环遍历\n",
    "- 解包个数应该要一致"
   ]
  },
  {
   "cell_type": "code",
   "execution_count": 43,
   "metadata": {},
   "outputs": [
    {
     "name": "stdout",
     "output_type": "stream",
     "text": [
      "one -- 1 -- 11\n",
      "two -- 2 -- 22\n",
      "three -- 3 -- 33\n",
      "four -- 4 -- 44\n"
     ]
    }
   ],
   "source": [
    "ll = [['one',1,11],['two',2,22],['three',3,33],['four',4,44]]\n",
    "for x,y,z in ll:\n",
    "    print(x,'--',y,'--',z)"
   ]
  },
  {
   "cell_type": "markdown",
   "metadata": {},
   "source": [
    "## 列表内涵\n",
    "- 通过简单方法创建列表 for\n",
    "- 写法 [i for i in list]       \n",
    "\n",
    "        a = [x for x in range(1,21)] #生成1~20的整数列表\n",
    "        b = [i for i in a if i%2 ==0 ] #条件判断,只取偶数\n",
    "        \n",
    "- 列表生成式可以嵌套"
   ]
  },
  {
   "cell_type": "code",
   "execution_count": 44,
   "metadata": {},
   "outputs": [
    {
     "name": "stdout",
     "output_type": "stream",
     "text": [
      "['abb', 'sd', 'bds']\n",
      "a_id 139744616434312\n",
      "b_id 139744616434696\n"
     ]
    }
   ],
   "source": [
    "# for\n",
    "a = ['abb','sd','bds']\n",
    "b = [i for i in a]\n",
    "print(b)\n",
    "print('a_id',id(a))\n",
    "print('b_id',id(b))"
   ]
  },
  {
   "cell_type": "code",
   "execution_count": 45,
   "metadata": {},
   "outputs": [
    {
     "name": "stdout",
     "output_type": "stream",
     "text": [
      "[10, 20, 30, 40, 50, 60, 70, 80]\n"
     ]
    }
   ],
   "source": [
    "a = [1,2,3,4,5,6,7,8]\n",
    "b = [i*10 for i in a]\n",
    "print(b)"
   ]
  },
  {
   "cell_type": "code",
   "execution_count": 53,
   "metadata": {},
   "outputs": [
    {
     "name": "stdout",
     "output_type": "stream",
     "text": [
      "[1, 2, 3, 4, 5, 6, 7, 8, 9, 10, 11, 12, 13, 14, 15, 16, 17, 18, 19, 20]\n",
      "[2, 4, 6, 8, 10, 12, 14, 16, 18, 20]\n"
     ]
    }
   ],
   "source": [
    "a = [x for x in range(1,21)]\n",
    "print(a)\n",
    "b = [i for i in a if i%2 ==0 ]\n",
    "print(b)"
   ]
  },
  {
   "cell_type": "code",
   "execution_count": 65,
   "metadata": {},
   "outputs": [
    {
     "name": "stdout",
     "output_type": "stream",
     "text": [
      "[1, 3, 5, 7, 9, 3, 5, 7, 9, 11, 5, 7, 9, 11, 13, 7, 9, 11, 13, 15, 9, 11, 13, 15, 17]\n",
      "1  3  5  7  9  3  5  7  9  11  5  7  9  11  13  7  9  11  13  15  9  11  13  15  17  \n",
      "[7, 9, 7, 9, 11, 7, 9, 11, 13, 7, 9, 11, 13, 15, 9, 11, 13, 15, 17]\n"
     ]
    }
   ],
   "source": [
    "a = [1,3,5,7,9]\n",
    "b = [0,2,4,6,8]\n",
    "c = [m+n for m in a for n in b]\n",
    "print (c)\n",
    "\n",
    "for m in a:\n",
    "    for n in b:\n",
    "        print(m+n,end = '  ')  \n",
    "print()"
   ]
  },
  {
   "cell_type": "code",
   "execution_count": 66,
   "metadata": {},
   "outputs": [
    {
     "name": "stdout",
     "output_type": "stream",
     "text": [
      "[7, 9, 7, 9, 11, 7, 9, 11, 13, 7, 9, 11, 13, 15, 9, 11, 13, 15, 17]\n"
     ]
    }
   ],
   "source": [
    "d =[m+n for m in a for n in b if m+n > 5]\n",
    "print (d)"
   ]
  },
  {
   "cell_type": "code",
   "execution_count": 105,
   "metadata": {},
   "outputs": [
    {
     "name": "stdout",
     "output_type": "stream",
     "text": [
      "[1, 3, 5, 7, 9, 0, 2, 4, 6, 8]\n"
     ]
    }
   ],
   "source": [
    "a = [1,3,5,7,9]\n",
    "b = [0,2,4,6,8]\n",
    "a.extend(b)\n",
    "print(a)"
   ]
  },
  {
   "cell_type": "markdown",
   "metadata": {},
   "source": [
    "## 关于列表的常用函数\n",
    "- len 求列表长度\n",
    "- max 求列表中最大值 min 最小值\n",
    "- list 将其他格式的数据转换成list (可迭代的类型)\n",
    "- append 在列表最后新增元素\n",
    "- insert 列表中插入元素 insert(index,data)\n",
    "- del 删除 元素或者列表\n",
    "- pop 弹出元素,默认最后. pop(index)\n",
    "- remove 删除制定值 (建议先判断值是否在列表再删除,否则容易报错)\n",
    "- clear 清空列表值\n",
    "- reverse 翻转,原地翻转\n",
    "- extend 扩展列表,把一个列表直接拼接到后一个\n",
    "- count 查找列表中指定值的个数\n",
    "- copy 拷贝,浅拷贝\n",
    "    - 与深拷贝区别 只拷贝第一层列表的值以及第二层列表的地址\n"
   ]
  },
  {
   "cell_type": "code",
   "execution_count": 71,
   "metadata": {},
   "outputs": [
    {
     "name": "stdout",
     "output_type": "stream",
     "text": [
      "983\n",
      "988\n",
      "6\n",
      "us   china\n"
     ]
    }
   ],
   "source": [
    "a = [x for x in range(6,989)]\n",
    "print(len(a))\n",
    "print(max(a))\n",
    "print(min(a))\n",
    "\n",
    "b = ['us','china','python']\n",
    "print(max(b),' ',min(b))"
   ]
  },
  {
   "cell_type": "code",
   "execution_count": 73,
   "metadata": {},
   "outputs": [
    {
     "name": "stdout",
     "output_type": "stream",
     "text": [
      "['i', ' ', 'l', 'o', 'v', 'e', ' ', 'u']\n",
      "[22, 23, 24, 25, 26, 27, 28, 29, 30, 31, 32]\n"
     ]
    }
   ],
   "source": [
    "ss = 'i love u'\n",
    "print(list(ss))\n",
    "print(list(range(22,33)))"
   ]
  },
  {
   "cell_type": "code",
   "execution_count": 103,
   "metadata": {},
   "outputs": [
    {
     "name": "stdout",
     "output_type": "stream",
     "text": [
      "[1, 2, 3, 4, 5, 6, 7, 8, 9, 10, 100]\n",
      "[1, 2, 3, 4, 5, 6, 7, 8, 9, 10, 11, 100]\n",
      "[1, 2, 4, 5, 6, 7, 8, 9, 10, 11, 100]\n",
      "100\n",
      "[1, 2, 4, 5, 6, 7, 8, 9, 10, 11]\n",
      "4\n",
      "[1, 2, 5, 6, 7, 8, 9, 10, 11]\n",
      "[1, 2, 3, 1, 2, 3, 5, 6, 1]\n",
      "[1, 2, 1, 2, 3, 5, 6, 1]\n",
      "[]\n"
     ]
    }
   ],
   "source": [
    "a = [i for i in range(1,11)]\n",
    "a.append(100)\n",
    "print(a)\n",
    "\n",
    "a.insert(10,11)#在第10号(从0开始)元素前插入'11'\n",
    "print(a)\n",
    "\n",
    "del a[2]\n",
    "print(a)\n",
    "\n",
    "print(a.pop())\n",
    "print(a)\n",
    "\n",
    "print(a.pop(2))\n",
    "print(a)\n",
    "\n",
    "b = [1,2,3,1,2,3,4,5,6,1]\n",
    "b.remove(4)\n",
    "print(b)\n",
    "#建议先判断值是否在列表再删除,否则容易报错\n",
    "if 3 in b:\n",
    "    b.remove(3)\n",
    "print(b)\n",
    "\n",
    "b.clear()\n",
    "print(b)"
   ]
  },
  {
   "cell_type": "code",
   "execution_count": 106,
   "metadata": {},
   "outputs": [
    {
     "name": "stdout",
     "output_type": "stream",
     "text": [
      "[6, 5, 4, 3, 2, 1]\n",
      "3\n"
     ]
    }
   ],
   "source": [
    "b = [1,2,3,4,5,6]\n",
    "b.reverse()\n",
    "print(b)\n",
    "\n",
    "b = [1,2,3,1,2,3,4,5,6,1]\n",
    "print(b.count(1))"
   ]
  },
  {
   "cell_type": "code",
   "execution_count": 107,
   "metadata": {},
   "outputs": [
    {
     "name": "stdout",
     "output_type": "stream",
     "text": [
      "[1, 22, 33, 45, 6, 8, 9]\n",
      "[1, 22, 33, 45, 100, 8, 9]\n",
      "[1, 22, 33, 45, 100, 8, 9]\n"
     ]
    }
   ],
   "source": [
    "#传地址\n",
    "a = [1,22,33,45,6,8,9]\n",
    "print(a)\n",
    "b = a\n",
    "b[4] = 100\n",
    "print(a)\n",
    "print(b)"
   ]
  },
  {
   "cell_type": "code",
   "execution_count": 108,
   "metadata": {},
   "outputs": [
    {
     "name": "stdout",
     "output_type": "stream",
     "text": [
      "[1, 22, 33, 45, 6, 8, 9]\n",
      "[1, 22, 33, 45, 6, 8, 9]\n",
      "[1, 22, 33, 45, 100, 8, 9]\n"
     ]
    }
   ],
   "source": [
    "#传值\n",
    "a = [1,22,33,45,6,8,9]\n",
    "print(a)\n",
    "b = a.copy()\n",
    "b[4] = 100\n",
    "print(a)\n",
    "print(b)"
   ]
  },
  {
   "cell_type": "code",
   "execution_count": 112,
   "metadata": {},
   "outputs": [
    {
     "name": "stdout",
     "output_type": "stream",
     "text": [
      "139744616154056\n",
      "139744616349896\n",
      "139744616554760\n",
      "139744616554760\n",
      "[10, 20, 30, [1, 2, 333]]\n",
      "[10, 20, 30, [1, 2, 333]]\n"
     ]
    }
   ],
   "source": [
    "# 深拷贝 跟 浅拷贝 \n",
    "#浅拷贝 只拷贝第一层列表的值以及第二层列表的地址\n",
    "a1 = [10,20,30,[1,2,3]]\n",
    "a2 = a1.copy()\n",
    "print(id(a1))\n",
    "print(id(a2))\n",
    "print(id(a1[3]))\n",
    "print(id(a2[3]))\n",
    "a1[3][2] = 333\n",
    "print(a1)\n",
    "print(a2)"
   ]
  },
  {
   "cell_type": "markdown",
   "metadata": {},
   "source": [
    "## 如果不需要列表地址保持不变,则清空列表可以使用以下方式\n",
    "- a = list()\n",
    "- a = []\n",
    "- 否则,使用 a.clear()\n"
   ]
  },
  {
   "cell_type": "markdown",
   "metadata": {},
   "source": [
    "## 列表传入函数,是传地址\n",
    "- 对于简单的数值,采用传值操作,即函数内对参数的操作,不会影响外面的变量\n",
    "- 对于复杂变量,采用传地址操作,此时函数内的参数和外部变量是同一份内容,任何地方修改次内容的更改都会影响另外的变量或参数的使用"
   ]
  },
  {
   "cell_type": "code",
   "execution_count": 75,
   "metadata": {},
   "outputs": [
    {
     "name": "stdout",
     "output_type": "stream",
     "text": [
      "[1, 2, 3, 4, 5, 6]\n",
      "[1, 2, 300, 4, 5, 6]\n",
      "[1, 2, 300, 4, 5, 6]\n",
      "9\n",
      "109\n",
      "9\n"
     ]
    }
   ],
   "source": [
    "def a (n):\n",
    "    n[2] = 300\n",
    "    print(n)\n",
    "    return None\n",
    "def b(n):\n",
    "    n+=100\n",
    "    print(n)\n",
    "    return None\n",
    "\n",
    "aa = [1,2,3,4,5,6]\n",
    "bb = 9\n",
    "\n",
    "#传地址\n",
    "print(aa)\n",
    "a(aa)\n",
    "print(aa)\n",
    "\n",
    "#传值\n",
    "print(bb)\n",
    "b(bb)\n",
    "print(bb)"
   ]
  },
  {
   "cell_type": "code",
   "execution_count": null,
   "metadata": {
    "collapsed": true
   },
   "outputs": [],
   "source": []
  }
 ],
 "metadata": {
  "kernelspec": {
   "display_name": "Python 3",
   "language": "python",
   "name": "python3"
  },
  "language_info": {
   "codemirror_mode": {
    "name": "ipython",
    "version": 3
   },
   "file_extension": ".py",
   "mimetype": "text/x-python",
   "name": "python",
   "nbconvert_exporter": "python",
   "pygments_lexer": "ipython3",
   "version": "3.6.3"
  }
 },
 "nbformat": 4,
 "nbformat_minor": 2
}
