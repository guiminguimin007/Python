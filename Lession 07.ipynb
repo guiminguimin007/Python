{
 "cells": [
  {
   "cell_type": "markdown",
   "metadata": {},
   "source": [
    "# 元组-tuple\n",
    "- 可以看成一个不可更改的list\n",
    "- 空元祖 t =()  tuple()"
   ]
  },
  {
   "cell_type": "code",
   "execution_count": 6,
   "metadata": {},
   "outputs": [
    {
     "name": "stdout",
     "output_type": "stream",
     "text": [
      "<class 'tuple'>\n",
      "<class 'int'>\n",
      "<class 'tuple'>\n",
      "<class 'tuple'>\n",
      "(1, 2, 3, 4, 5)\n",
      "<class 'tuple'>\n",
      "(1, 2, 3, 4, 5)\n",
      "<class 'tuple'>\n",
      "(1, 2, 3)\n"
     ]
    }
   ],
   "source": [
    "t =()\n",
    "print(type(t))\n",
    "\n",
    "#1个值的时候,要加个逗号,否则类型会变成整形\n",
    "t1 = (1)\n",
    "t2 = (1,)\n",
    "print(type(t1))\n",
    "print(type(t2))\n",
    "\n",
    "t3 = (1,2,3,4,5)\n",
    "print(type(t3))\n",
    "print(t3)\n",
    "\n",
    "t4 = 1,2,3,4,5\n",
    "print(type(t4))\n",
    "print(t4)\n",
    "\n",
    "l = [1,2,3]\n",
    "t5 = tuple(l)\n",
    "print(type(t5))\n",
    "print(t5)\n"
   ]
  },
  {
   "cell_type": "markdown",
   "metadata": {},
   "source": [
    "## 元组的特性\n",
    "- 是序列标,有序\n",
    "- 元组数据值可以访问,不能修改,不能修改,不能修改 .不能修改指的是 内容的不能修改\n",
    "- 元组数据可以是任意类型\n",
    "- 总之,list所有特性,除了可修改外,元组都具有\n",
    "- 也就意味着,list具有的操作,比如索引,分片,序列相加,相乘,成员资格操作等,都一样\n"
   ]
  },
  {
   "cell_type": "code",
   "execution_count": 10,
   "metadata": {},
   "outputs": [
    {
     "name": "stdout",
     "output_type": "stream",
     "text": [
      "2\n",
      "(2, 3, 4)\n",
      "139829084237544\n",
      "139828913929672\n",
      "(2, 3, 4, 5, 6)\n"
     ]
    }
   ],
   "source": [
    "#索引操作\n",
    "print(t5[1])\n",
    "\n",
    "t = (1,2,3,4,5,6)\n",
    "tt = t[1:4]\n",
    "print(tt)\n",
    "print(id(t))\n",
    "print(id(tt))\n",
    "\n",
    "#分片可以超标\n",
    "tt = t[1:99]\n",
    "print(tt)"
   ]
  },
  {
   "cell_type": "code",
   "execution_count": 12,
   "metadata": {},
   "outputs": [
    {
     "name": "stdout",
     "output_type": "stream",
     "text": [
      "139828913927800\n",
      "139828913929816\n",
      "139828914231048\n",
      "(1, 2, 3, 5, 6, 7)\n"
     ]
    }
   ],
   "source": [
    "# 序列相加\n",
    "t1 = (1,2,3)\n",
    "t2 = (5,6,7)\n",
    "print(id(t1))\n",
    "print(id(t2))\n",
    "\n",
    "# 传址操作\n",
    "t1 += t2\n",
    "print(id(t1))\n",
    "print(t1)"
   ]
  },
  {
   "cell_type": "code",
   "execution_count": 13,
   "metadata": {},
   "outputs": [
    {
     "name": "stdout",
     "output_type": "stream",
     "text": [
      "139828913929024\n",
      "(1, 2, 3, 1, 2, 3, 1, 2, 3)\n",
      "139828914584816\n"
     ]
    }
   ],
   "source": [
    "# 元组相乘\n",
    "t = (1,2,3)\n",
    "print(id(t))\n",
    "t = t * 3\n",
    "print(t)\n",
    "print(id(t))"
   ]
  },
  {
   "cell_type": "code",
   "execution_count": 14,
   "metadata": {},
   "outputs": [
    {
     "name": "stdout",
     "output_type": "stream",
     "text": [
      "True\n"
     ]
    }
   ],
   "source": [
    "# 成员检测\n",
    "t = (1,2,3)\n",
    "print(2 in t)"
   ]
  },
  {
   "cell_type": "code",
   "execution_count": 15,
   "metadata": {},
   "outputs": [
    {
     "name": "stdout",
     "output_type": "stream",
     "text": [
      "1\n",
      "2\n",
      "3\n",
      "1sdf\n",
      "aa\n",
      "love\n"
     ]
    }
   ],
   "source": [
    "# 元组遍历,一般用for\n",
    "t = (1,2,3,'1sdf','aa','love')\n",
    "for i in t:\n",
    "    print(i)"
   ]
  },
  {
   "cell_type": "code",
   "execution_count": 20,
   "metadata": {},
   "outputs": [
    {
     "name": "stdout",
     "output_type": "stream",
     "text": [
      "1 \t-- 2 \t-- 3\n",
      "22 \t-- 33 \t-- 44\n",
      "as \t-- ghg \t-- 990\n"
     ]
    }
   ],
   "source": [
    "# 双层元组的遍历\n",
    "t = ((1,2,3),(22,33,44),('as','ghg',990))\n",
    "for x,y,z in t:\n",
    "    print(x,'\\t--',y,'\\t--',z)"
   ]
  },
  {
   "cell_type": "markdown",
   "metadata": {},
   "source": [
    "## 关于元组的函数\n",
    "- len: 返回长度\n",
    "- max,min:获取元组中最大或者最小值\n",
    "- tuple 转化成元组\n"
   ]
  },
  {
   "cell_type": "code",
   "execution_count": 23,
   "metadata": {},
   "outputs": [
    {
     "name": "stdout",
     "output_type": "stream",
     "text": [
      "6\n",
      "6\n",
      "1\n",
      "bbb\n",
      "213\n"
     ]
    }
   ],
   "source": [
    "# len\n",
    "t = (1,2,3,4,5,6)\n",
    "print(len(t))\n",
    "\n",
    "# max min\n",
    "print(max(t))\n",
    "print(min(t))\n",
    "\n",
    "t = ('213','as0','bbb')\n",
    "print(max(t))\n",
    "print(min(t))"
   ]
  },
  {
   "cell_type": "code",
   "execution_count": 24,
   "metadata": {},
   "outputs": [
    {
     "name": "stdout",
     "output_type": "stream",
     "text": [
      "(3.1, 2, 5, 6, 8, 33)\n"
     ]
    }
   ],
   "source": [
    "l = [3.1,2,5,6,8,33]\n",
    "t = tuple(l)\n",
    "print(t)"
   ]
  },
  {
   "cell_type": "markdown",
   "metadata": {},
   "source": [
    "## 元组的函数\n",
    "- 基本跟list通用\n",
    "- index 查找指定元素在元组中的位置,如果多个,则返回第一个位置"
   ]
  },
  {
   "cell_type": "code",
   "execution_count": 26,
   "metadata": {},
   "outputs": [
    {
     "name": "stdout",
     "output_type": "stream",
     "text": [
      "3\n"
     ]
    }
   ],
   "source": [
    "t = [0,12,33,5,4,87,99,4,5]\n",
    "print(t.index(5))"
   ]
  },
  {
   "cell_type": "markdown",
   "metadata": {},
   "source": [
    "## 元组变量交换方法\n",
    "- 两个变量交换值"
   ]
  },
  {
   "cell_type": "code",
   "execution_count": 31,
   "metadata": {},
   "outputs": [
    {
     "name": "stdout",
     "output_type": "stream",
     "text": [
      "1   3   5\n",
      "5   3   1\n"
     ]
    }
   ],
   "source": [
    "a = 1\n",
    "b = 3\n",
    "c = 5\n",
    "print(a,' ',b,' ',c)\n",
    "a,b,c =c,b,a\n",
    "print(a,' ',b,' ',c)"
   ]
  }
 ],
 "metadata": {
  "kernelspec": {
   "display_name": "Python 3",
   "language": "python",
   "name": "python3"
  },
  "language_info": {
   "codemirror_mode": {
    "name": "ipython",
    "version": 3
   },
   "file_extension": ".py",
   "mimetype": "text/x-python",
   "name": "python",
   "nbconvert_exporter": "python",
   "pygments_lexer": "ipython3",
   "version": "3.6.3"
  }
 },
 "nbformat": 4,
 "nbformat_minor": 2
}
