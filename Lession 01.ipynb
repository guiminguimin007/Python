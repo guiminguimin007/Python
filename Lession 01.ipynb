{
 "cells": [
  {
   "cell_type": "code",
   "execution_count": 6,
   "metadata": {},
   "outputs": [
    {
     "name": "stdout",
     "output_type": "stream",
     "text": [
      "Helloworld\n"
     ]
    },
    {
     "data": {
      "text/plain": [
       "'\\nss\\ndd\\naa\\n'"
      ]
     },
     "execution_count": 6,
     "metadata": {},
     "output_type": "execute_result"
    }
   ],
   "source": [
    "#注释一行\n",
    "print(\"Helloworld\") #后面也可以注释\n",
    "\"\"\"\n",
    "多行注释\n",
    "多行\n",
    "注释\n",
    "\"\"\"\n",
    "'''\n",
    "ss\n",
    "dd\n",
    "aa\n",
    "'''"
   ]
  },
  {
   "cell_type": "code",
   "execution_count": 1,
   "metadata": {},
   "outputs": [
    {
     "name": "stdout",
     "output_type": "stream",
     "text": [
      "['False', 'None', 'True', 'and', 'as', 'assert', 'break', 'class', 'continue', 'def', 'del', 'elif', 'else', 'except', 'finally', 'for', 'from', 'global', 'if', 'import', 'in', 'is', 'lambda', 'nonlocal', 'not', 'or', 'pass', 'raise', 'return', 'try', 'while', 'with', 'yield']\n"
     ]
    }
   ],
   "source": [
    "#关键字\n",
    "import keyword\n",
    "print(keyword.kwlist)"
   ]
  },
  {
   "cell_type": "code",
   "execution_count": 4,
   "metadata": {},
   "outputs": [
    {
     "name": "stdout",
     "output_type": "stream",
     "text": [
      "18\n",
      "22\n",
      "22\n",
      "22\n",
      "24\n",
      "28\n",
      "33\n"
     ]
    }
   ],
   "source": [
    "#变量赋值\n",
    "age  =18\n",
    "print(age )\n",
    "\n",
    "age1 = age2 = age3  = 22\n",
    "print(age1)\n",
    "print(age2)\n",
    "print(age3)\n",
    "\n",
    "age4,age5,age6 = 24,28,33\n",
    "print(age4)\n",
    "print(age5)\n",
    "print(age6)"
   ]
  },
  {
   "cell_type": "code",
   "execution_count": 7,
   "metadata": {
    "collapsed": true
   },
   "outputs": [],
   "source": [
    "#数据类型 Object\n",
    "-数字类型 Number\n",
    "-字符串类型 str\n",
    "-列表 list\n",
    "-元组 tuple\n",
    "-字典 Dictionary\n",
    "-集合 set"
   ]
  },
  {
   "cell_type": "markdown",
   "metadata": {},
   "source": [
    "#数字类型没有大小限制\n",
    "##整数\n",
    "    二进制\n",
    "        0b开头 如 0b01101,0b10001\n",
    "    八进制\n",
    "        0o开头 如0o01537,0o1234567\n",
    "    十六进制\n",
    "        0x开头 如0xffa1,0x154bc\n",
    "    十进制"
   ]
  },
  {
   "cell_type": "code",
   "execution_count": 15,
   "metadata": {},
   "outputs": [
    {
     "name": "stdout",
     "output_type": "stream",
     "text": [
      "10\n",
      "18\n",
      "18\n",
      "255\n"
     ]
    }
   ],
   "source": [
    "age = 10 \n",
    "print(age)\n",
    "age = 0b10010 # 十进制18\n",
    "print(age)\n",
    "age  =0o22 # 十进制18\n",
    "print(age)\n",
    "\n",
    "age = 0xff #255\n",
    "print(age)"
   ]
  },
  {
   "cell_type": "markdown",
   "metadata": {},
   "source": [
    "##浮点数\n",
    "-小数有条件省略\n",
    "    -3.1415\n",
    "    -3.\n",
    "    -0.5\n",
    "    -.4\n",
    "-科学计数法\n",
    "    -e或者E 后面跟整数表示10的指数\n",
    "    -1457.22 == 1.45722e2"
   ]
  },
  {
   "cell_type": "code",
   "execution_count": 19,
   "metadata": {},
   "outputs": [
    {
     "name": "stdout",
     "output_type": "stream",
     "text": [
      "167.24\n",
      "0.2\n",
      "0.6\n",
      "3.0\n",
      "145.3\n"
     ]
    }
   ],
   "source": [
    "height = 167.24\n",
    "print(height)\n",
    "\n",
    "shili = 0.2\n",
    "print(shili)\n",
    "\n",
    "shili = .6\n",
    "print(shili)\n",
    "\n",
    "shili =3.\n",
    "print(shili)\n",
    "\n",
    "kexue = 1.453e2 #145.3\n",
    "print(kexue)"
   ]
  },
  {
   "cell_type": "markdown",
   "metadata": {},
   "source": [
    "##复数\n",
    "-由实部与虚部组成\n",
    "-虚部用j或者J结尾表示\n",
    "-5+3j\n",
    "-3j"
   ]
  },
  {
   "cell_type": "markdown",
   "metadata": {},
   "source": [
    "##布尔值\n",
    "-表示真假的值 True / False  1 / 0\n"
   ]
  },
  {
   "cell_type": "code",
   "execution_count": 20,
   "metadata": {},
   "outputs": [
    {
     "name": "stdout",
     "output_type": "stream",
     "text": [
      "19\n"
     ]
    }
   ],
   "source": [
    "age = 18 + True\n",
    "print(age)"
   ]
  },
  {
   "cell_type": "markdown",
   "metadata": {},
   "source": [
    "#字符串\n",
    "-表示\n",
    "    -单引号\n",
    "    -双引号\n",
    "    -三引号（三个单或者双）能扩起多行信息\n",
    "-单双引号交叉使用"
   ]
  },
  {
   "cell_type": "code",
   "execution_count": 28,
   "metadata": {},
   "outputs": [
    {
     "name": "stdout",
     "output_type": "stream",
     "text": [
      "i love u\n",
      "i love 肉\n",
      "<a style=\"color:red\">哈哈</a>\n",
      "<a style = \"color:red\">\n",
      "哈哈\n",
      "</a>\n",
      "\n"
     ]
    }
   ],
   "source": [
    "love = \"i love u\"\n",
    "print(love)\n",
    "\n",
    "love = 'i love 肉'\n",
    "print(love)\n",
    "\n",
    "#单双引号交叉使用例子\n",
    "#<a style=\"color:red\">哈哈</a>\n",
    "html = '<a style=\"color:red\">哈哈</a>'\n",
    "print(html)\n",
    "\n",
    "#多行字符串\n",
    "html = '''<a style = \"color:red\">\n",
    "哈哈\n",
    "</a>\n",
    "'''\n",
    "print(html)"
   ]
  }
 ],
 "metadata": {
  "kernelspec": {
   "display_name": "Python 3",
   "language": "python",
   "name": "python3"
  },
  "language_info": {
   "codemirror_mode": {
    "name": "ipython",
    "version": 3
   },
   "file_extension": ".py",
   "mimetype": "text/x-python",
   "name": "python",
   "nbconvert_exporter": "python",
   "pygments_lexer": "ipython3",
   "version": "3.6.3"
  }
 },
 "nbformat": 4,
 "nbformat_minor": 2
}
