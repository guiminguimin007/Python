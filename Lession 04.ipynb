{
 "cells": [
  {
   "cell_type": "markdown",
   "metadata": {},
   "source": [
    "# while循环\n",
    "- 当条件表达式成立时,就循环\n",
    "- 语法:\n",
    "\n",
    "    while 条件表达式:\n",
    "        语句块\n",
    "- 另一种表达方法:\n",
    "\n",
    "    while 条件表达式:\n",
    "        语句块1\n",
    "    else:\n",
    "        语句块2"
   ]
  },
  {
   "cell_type": "code",
   "execution_count": 2,
   "metadata": {},
   "outputs": [
    {
     "name": "stdout",
     "output_type": "stream",
     "text": [
      "第1年,账户金额为106.69999999999999元\n",
      "第2年,账户金额为113.84889999999999元\n",
      "第3年,账户金额为121.47677629999998元\n",
      "第4年,账户金额为129.61572031209997元\n",
      "第5年,账户金额为138.29997357301065元\n",
      "第6年,账户金额为147.56607180240235元\n",
      "第7年,账户金额为157.4529986131633元\n",
      "第8年,账户金额为168.00234952024522元\n",
      "第9年,账户金额为179.25850693810165元\n",
      "第10年,账户金额为191.26882690295446元\n",
      "第11年,账户金额为204.0838383054524元\n",
      "终于拿到一倍钱了\n"
     ]
    }
   ],
   "source": [
    "#如果年利率是6.7%,则多少年本钱翻倍\n",
    "year = 0\n",
    "benjin = 100\n",
    "while benjin<200:\n",
    "    year +=1 # year = year + 1\n",
    "    benjin = benjin*(1+0.067)\n",
    "    print('第{0}年,账户金额为{1}元'.format(year,benjin))\n",
    "else:\n",
    "    print('终于拿到一倍钱了')"
   ]
  },
  {
   "cell_type": "markdown",
   "metadata": {},
   "source": [
    "# 函数\n",
    "- 一个函数完成一项特定功能\n",
    "- 函数使用\n",
    "    - 函数需要先定义\n",
    "    - 使用函数,俗称调用"
   ]
  },
  {
   "cell_type": "code",
   "execution_count": 5,
   "metadata": {},
   "outputs": [
    {
     "name": "stdout",
     "output_type": "stream",
     "text": [
      "我的第一个函数\n",
      "打印Hello World!\n",
      "结束!\n"
     ]
    }
   ],
   "source": [
    "#定义函数\n",
    "#只是定义,不会执行\n",
    "#1.def关键字,后面跟一个空格\n",
    "#2.函数名,自己定义,起名需要遵循命名规则\n",
    "#3.后面括号和冒号不能省,括号内可以有参数\n",
    "#4.函数内所有代码缩进\n",
    "def func():\n",
    "    print('我的第一个函数')\n",
    "    print('打印Hello World!')\n",
    "    print('结束!')\n",
    "\n",
    "#函数调用\n",
    "#直接函数名后面括号\n",
    "func()"
   ]
  },
  {
   "cell_type": "markdown",
   "metadata": {},
   "source": [
    "## 函数的参数和返回值\n",
    "- 参数:负责给函数传递一些必要的数据或者信息\n",
    "    - 参数资料(https://www.cnblogs.com/bingabcd/p/6671368.html)\n",
    "    - python参考资料:headfirst python -->零基础入门学习python(小甲鱼)-->流畅的python-->习题\n",
    "    - 形式参数:占位符,没有具体值,形参\n",
    "    - 实际参数:在调用函数的时候输入的值\n",
    "        - 普通参数\n",
    "        - 默认参数\n",
    "        - 关键字参数\n",
    "        - 收集参数\n",
    "- 返回值:函数的执行结果\n",
    "    - 用return关键字\n",
    "    - 如果没有return,默认返回一个None\n",
    "    - 函数一旦执行return语句,则无条件返回,即结束函数执行"
   ]
  },
  {
   "cell_type": "code",
   "execution_count": 7,
   "metadata": {},
   "outputs": [
    {
     "name": "stdout",
     "output_type": "stream",
     "text": [
      "fsfs,你怎么了\n",
      "baba,你怎么了\n"
     ]
    }
   ],
   "source": [
    "# 参数的定义与使用\n",
    "# 参数str只是一个符号,代表的是调用的时候的某一个数据\n",
    "# 调用的时候,会用值代替函数中所有的str\n",
    "def hello(str):\n",
    "    print('{0},你怎么了'.format(str))\n",
    "\n",
    "hello('fsfs')\n",
    "hello('baba')"
   ]
  },
  {
   "cell_type": "code",
   "execution_count": 12,
   "metadata": {},
   "outputs": [
    {
     "name": "stdout",
     "output_type": "stream",
     "text": [
      "fsfs,你好!\n",
      "我已经跟fsfs打招呼了\n",
      "baba,你好!\n",
      "我已经跟baba打招呼了\n"
     ]
    }
   ],
   "source": [
    "# return语句使用\n",
    "# 函数完事后返回一句话\n",
    "def hello(str):\n",
    "    print('{0},你好!'.format(str))\n",
    "    \n",
    "    return '我已经跟{0}打招呼了'.format(str)\n",
    "\n",
    "strs = hello('fsfs')\n",
    "print(strs)\n",
    "strs = hello('baba')\n",
    "print(strs)"
   ]
  },
  {
   "cell_type": "code",
   "execution_count": 13,
   "metadata": {},
   "outputs": [
    {
     "name": "stdout",
     "output_type": "stream",
     "text": [
      "baba,你好!\n",
      "我已经跟baba打招呼了\n"
     ]
    }
   ],
   "source": [
    "# return语句使用2\n",
    "def hello(str):\n",
    "    print('{0},你好!'.format(str))\n",
    "    \n",
    "    return '我已经跟{0}打招呼了'.format(str)\n",
    "    print('这些return后的是不会执行的!')\n",
    "    \n",
    "strs = hello('baba')\n",
    "print(strs)"
   ]
  },
  {
   "cell_type": "markdown",
   "metadata": {},
   "source": [
    "## 普通参数\n",
    "- 定义的时候直接定义变量名\n",
    "- 调用的时候直接把变量或者值放入指定位置\n",
    "            \n",
    "            def 函数名(参数1,参数2, ...):\n",
    "                函数体\n",
    "            \n",
    "            #调用\n",
    "            函数名(val1,val2,...)\n",
    "            \n",
    "            #调用的时候,具体值按位置赋值"
   ]
  },
  {
   "cell_type": "markdown",
   "metadata": {},
   "source": [
    "## 默认参数\n",
    "- 形参带有默认值\n",
    "- 调用的时候,如果没有相对应形参赋值,则使用默认值\n",
    "        \n",
    "        #p1的默认值为v1,p2的默认值为v2\n",
    "        def func_name(p1=v1,p2=v2,...):\n",
    "            函数体\n",
    "        \n",
    "        #调用,使用默认参数\n",
    "        func_name()\n",
    "        \n",
    "        #调用2\n",
    "        func_name(100,200)"
   ]
  },
  {
   "cell_type": "code",
   "execution_count": 16,
   "metadata": {},
   "outputs": [
    {
     "name": "stdout",
     "output_type": "stream",
     "text": [
      "你叫科科,是个男的\n",
      "你叫心仪,是个女的\n"
     ]
    }
   ],
   "source": [
    "# 默认参数示例\n",
    "# 报名函数,需要知道学生的性别,默认为男性\n",
    "def reg(name,sex ='男'):\n",
    "    print('你叫{0},是个{1}的'.format(name,sex))\n",
    "\n",
    "reg('科科')\n",
    "reg('心仪','女')"
   ]
  },
  {
   "cell_type": "markdown",
   "metadata": {},
   "source": [
    "## 关键字参数\n",
    "- 语法\n",
    "\n",
    "        def func(p1=v1,p2=v2,...):\n",
    "            func_body\n",
    "           \n",
    "        #调用函数:\n",
    "        func(p1= value1, p2 = value2)\n",
    "- 好处\n",
    "    - 不容易混淆,一般实参和形参只是按照位置一一对应即.\n",
    "    - 使用关键字参数,可以不考虑参数位置"
   ]
  },
  {
   "cell_type": "code",
   "execution_count": 22,
   "metadata": {},
   "outputs": [
    {
     "name": "stdout",
     "output_type": "stream",
     "text": [
      "我叫黎明,今年17岁,我住在上海\n",
      "我叫黎明,今年17岁,我住在上海\n",
      "我叫黎明,今年17岁,我住在noaddress\n"
     ]
    }
   ],
   "source": [
    "# 关键字参数例子\n",
    "def stu(name = 'noname',age = 0,addr = 'noaddress'):\n",
    "    print('我叫{0},今年{1}岁,我住在{2}'.format(name,age,addr))\n",
    "\n",
    "n = '黎明'\n",
    "a = 17\n",
    "ad = '上海'\n",
    "stu(n,a,ad)\n",
    "\n",
    "#关键字调用 ,不考虑参数位置\n",
    "stu(age = a,name= n, addr = ad)\n",
    "stu(age = a,name= n)"
   ]
  },
  {
   "cell_type": "markdown",
   "metadata": {},
   "source": [
    "## 收集参数\n",
    "- 把没有位置,不能和定义时的参数位置相对应的参数,放入一个特定的数据结构中\n",
    "- 语法\n",
    "\n",
    "        def func(*args):\n",
    "            函数体\n",
    "            按照list使用方式访问args得到传入的参数\n",
    "        #调用\n",
    "        func(p1,p2,p3....)\n",
    "- 参数名args不是必须这么写,但推荐用args\n",
    "- 参数args前需要有*号\n",
    "- 收集参数可以和其他参数共存\n",
    "- args 把他看做一个列表list\n",
    "- 收集参数可以不带任何实参调用,此时收集参数为空tuple"
   ]
  },
  {
   "cell_type": "code",
   "execution_count": 27,
   "metadata": {},
   "outputs": [
    {
     "name": "stdout",
     "output_type": "stream",
     "text": [
      "我叫黎明\n",
      "<class 'tuple'>\n",
      "我10岁\n",
      "170\n",
      "我叫noname\n",
      "<class 'tuple'>\n"
     ]
    }
   ],
   "source": [
    "# 收集参数例子\n",
    "# 函数模拟一个学生进行自我介绍,但具体内容不清楚\n",
    "def stu(name = 'noname',*args):\n",
    "    print('我叫{0}'.format(name))\n",
    "    #type函数作用是检测变量的类型\n",
    "    print(type(args))\n",
    "    for item in args:\n",
    "        print(item)\n",
    "\n",
    "stu('黎明','我10岁',170)\n",
    "stu()"
   ]
  },
  {
   "cell_type": "markdown",
   "metadata": {},
   "source": [
    "## 收集参数之关键字收集参数\n",
    "- 把关键字参数按字典格式存入到收集参数\n",
    "- 语法:\n",
    "        \n",
    "        def func(**kwargs):\n",
    "            函数体\n",
    "        \n",
    "        #调用:\n",
    "        func(p1=v1,p2=v2,...)\n",
    "        \n",
    "- kwargs一般约定俗成\n",
    "- 调用的时候,把多余的关键字参数放入kwargs\n",
    "- 访问kwargs需要按字典格式访问\n",
    "- 收集参数可以为空"
   ]
  },
  {
   "cell_type": "code",
   "execution_count": null,
   "metadata": {
    "collapsed": true
   },
   "outputs": [],
   "source": [
    "# 收集参数之关键字例子\n",
    "\n",
    "def stu2( **kwargs):\n",
    "    print('Hello ,我先自己我介绍下:')\n",
    "    print(type(kwargs))\n",
    "    for k,v in kwargs.items():\n",
    "        print(k,'\\t',v)\n",
    "\n",
    "stu2(name = 'dazhangwei', age = 10, addr = '上海')\n",
    "\n",
    "print('*' * 50)\n",
    "\n",
    "stu2(name = 'dada')\n",
    "print('*' * 50)\n",
    "stu2()"
   ]
  },
  {
   "cell_type": "markdown",
   "metadata": {},
   "source": [
    "## 收集参数混用顺序问题\n",
    "- 使用规则,普通参数和关键字参数优先\n",
    "- 定义的时候一般找普通参数,关键字参数,收集参数tuple,收集参数dict\n",
    "- 解包问题\n",
    "    - 写法"
   ]
  },
  {
   "cell_type": "code",
   "execution_count": 48,
   "metadata": {},
   "outputs": [
    {
     "name": "stdout",
     "output_type": "stream",
     "text": [
      "大家好,我叫Keke\n",
      "我是男性,爱好没有\n",
      "**************************************************\n",
      "##################################################\n",
      "大家好,我叫lala\n",
      "我是女性,爱好唱歌\n",
      "**************************************************\n",
      "##################################################\n",
      "大家好,我叫lala\n",
      "我是女性,爱好唱歌\n",
      "**************************************************\n",
      "aaaa\n",
      "bbbb\n",
      "##################################################\n",
      "hobby2 \t 游泳\n"
     ]
    }
   ],
   "source": [
    "# 收集参数混用例子\n",
    "def stu3(name,*args,sex = '男',hobby='没有',**kwargs):\n",
    "    print('大家好,我叫{0}'.format(name))\n",
    "    print('我是{0}性,爱好{1}'.format(sex,hobby))\n",
    "    print('*' * 50)\n",
    "    for i in args:\n",
    "        print(i)\n",
    "    \n",
    "    print('#' * 50)\n",
    "    \n",
    "    for k,v in kwargs.items():\n",
    "        print(k,'\\t',v)\n",
    "\n",
    "name = 'Keke'\n",
    "stu3(name)\n",
    "\n",
    "stu3('lala',sex ='女', hobby = '唱歌')\n",
    "\n",
    "stu3('lala','aaaa','bbbb',sex ='女',hobby = '唱歌',hobby2 = '游泳')"
   ]
  },
  {
   "cell_type": "markdown",
   "metadata": {},
   "source": [
    "## 收集参数的解包问题\n",
    "- 把参数放入list中,直接把List/dict中的值放入收集参数中\n",
    "- args的表示形式是字典内一个list类型的元素\n",
    "- 此时的调用,我们就需要解包符号,即调用的时候前面加一个 * 号 如下面例子.\n",
    "- 同理,对于dict类型进行解包,需要用两个型号进行解包"
   ]
  },
  {
   "cell_type": "code",
   "execution_count": 9,
   "metadata": {},
   "outputs": [
    {
     "name": "stdout",
     "output_type": "stream",
     "text": [
      "hahahaha\n",
      "<class 'list'>\n",
      "['ccc', 'ddd', 4, 5]\n",
      "hahahaha\n",
      "<class 'str'>\n",
      "ccc\n",
      "<class 'str'>\n",
      "ddd\n",
      "<class 'int'>\n",
      "4\n",
      "<class 'int'>\n",
      "5\n"
     ]
    }
   ],
   "source": [
    "# 解包问题\n",
    "def stu(*args):\n",
    "    print('hahahaha')\n",
    "    for i in args:\n",
    "        print(type(i))\n",
    "        print(i)\n",
    "        \n",
    "#stu('aaaa','bbbb',1,2,3)\n",
    "\n",
    "l  = list()\n",
    "l.append('ccc')\n",
    "l.append('ddd')\n",
    "l.append(4)\n",
    "l.append(5)\n",
    "stu(l)\n",
    "# 此时,args的表示形式是字典内一个list类型的元素,即args = (['ccc', 'ddd', 4, 5])\n",
    "\n",
    "# 此时的调用,我们就需要解包符号,即调用的时候前面加一个 * 号\n",
    "stu(*l)"
   ]
  },
  {
   "cell_type": "markdown",
   "metadata": {},
   "source": [
    "## 返回值\n",
    "- 函数和过程的区别:有无返回值\n",
    "- 需要用return显示返回的内容\n",
    "- 如果没有返回,则默认返回None\n",
    "- 推荐写法,无论有无返回值,最后都要以return结束"
   ]
  },
  {
   "cell_type": "code",
   "execution_count": 12,
   "metadata": {},
   "outputs": [
    {
     "name": "stdout",
     "output_type": "stream",
     "text": [
      "有返回值\n",
      "1\n",
      "没有返回值\n",
      "None\n"
     ]
    }
   ],
   "source": [
    "#返回的例子\n",
    "def func_1():\n",
    "    print('有返回值')\n",
    "    return 1\n",
    "\n",
    "def func_2():\n",
    "    print('没有返回值')\n",
    "    return \n",
    "\n",
    "f1 = func_1()\n",
    "print(f1)\n",
    "f2 = func_2()\n",
    "print(f2)"
   ]
  },
  {
   "cell_type": "markdown",
   "metadata": {},
   "source": [
    "# 函数文档\n",
    "- 函数的文档作用是对当前函数提供使用相关的参考信息\n",
    "- 写法\n",
    "    - 在函数内部开始的第一行使用三引号字符串定义符\n",
    "    - 一般具有特定格式\n",
    "- 文档查看方法:\n",
    "    - 使用help函数,如 help(func)\n",
    "    - 使用__doc__ "
   ]
  },
  {
   "cell_type": "code",
   "execution_count": 19,
   "metadata": {},
   "outputs": [
    {
     "name": "stdout",
     "output_type": "stream",
     "text": [
      "Help on function student in module __main__:\n",
      "\n",
      "student(name, age, *args)\n",
      "    本方法打印学生记录文档\n",
      "    :param name:表示学生的姓名\n",
      "    :param age:表示学生的年龄\n",
      "    :return:此函数没有返回值\n",
      "\n",
      "None\n",
      "==================================================\n",
      "\n",
      "    本方法打印学生记录文档\n",
      "    :param name:表示学生的姓名\n",
      "    :param age:表示学生的年龄\n",
      "    :return:此函数没有返回值\n",
      "    \n"
     ]
    }
   ],
   "source": [
    "def student(name,age,*args):\n",
    "    '''\n",
    "    本方法打印学生记录文档\n",
    "    :param name:表示学生的姓名\n",
    "    :param age:表示学生的年龄\n",
    "    :return:此函数没有返回值\n",
    "    '''\n",
    "    print('学生文档')\n",
    "\n",
    "print(help(student))\n",
    "print('=' * 50)\n",
    "print(student.__doc__)"
   ]
  }
 ],
 "metadata": {
  "kernelspec": {
   "display_name": "Python 3",
   "language": "python",
   "name": "python3"
  },
  "language_info": {
   "codemirror_mode": {
    "name": "ipython",
    "version": 3
   },
   "file_extension": ".py",
   "mimetype": "text/x-python",
   "name": "python",
   "nbconvert_exporter": "python",
   "pygments_lexer": "ipython3",
   "version": "3.6.3"
  }
 },
 "nbformat": 4,
 "nbformat_minor": 2
}
